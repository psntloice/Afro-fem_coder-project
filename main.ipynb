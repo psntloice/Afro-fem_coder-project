{
 "cells": [
  {
   "cell_type": "markdown",
   "metadata": {},
   "source": [
    "# My wikipedia page visit project."
   ]
  },
  {
   "cell_type": "markdown",
   "metadata": {},
   "source": [
    "I first start with importing the libraries that I will use."
   ]
  },
  {
   "cell_type": "code",
   "execution_count": 170,
   "metadata": {},
   "outputs": [],
   "source": [
    "import pandas as pd\n",
    "import numpy as np"
   ]
  },
  {
   "cell_type": "markdown",
   "metadata": {},
   "source": [
    "I import my data which was already flattened."
   ]
  },
  {
   "cell_type": "code",
   "execution_count": 171,
   "metadata": {},
   "outputs": [],
   "source": [
    "mydata = pd.read_excel(\"wikipedia_dataset_flat.xlsx\",index_col=0)"
   ]
  },
  {
   "cell_type": "markdown",
   "metadata": {},
   "source": [
    "Familiarising with the data then I start the cleaning process."
   ]
  },
  {
   "cell_type": "code",
   "execution_count": 172,
   "metadata": {},
   "outputs": [
    {
     "data": {
      "text/html": [
       "<div>\n",
       "<style scoped>\n",
       "    .dataframe tbody tr th:only-of-type {\n",
       "        vertical-align: middle;\n",
       "    }\n",
       "\n",
       "    .dataframe tbody tr th {\n",
       "        vertical-align: top;\n",
       "    }\n",
       "\n",
       "    .dataframe thead th {\n",
       "        text-align: right;\n",
       "    }\n",
       "</style>\n",
       "<table border=\"1\" class=\"dataframe\">\n",
       "  <thead>\n",
       "    <tr style=\"text-align: right;\">\n",
       "      <th></th>\n",
       "      <th>date</th>\n",
       "      <th>page</th>\n",
       "      <th>visits</th>\n",
       "    </tr>\n",
       "  </thead>\n",
       "  <tbody>\n",
       "    <tr>\n",
       "      <th>0</th>\n",
       "      <td>2016-01-01</td>\n",
       "      <td>.xxx_en.wikipedia.org_all-access_all-agents</td>\n",
       "      <td>7089.0</td>\n",
       "    </tr>\n",
       "    <tr>\n",
       "      <th>1</th>\n",
       "      <td>2016-01-01</td>\n",
       "      <td>.xxx_en.wikipedia.org_mobile-web_all-agents</td>\n",
       "      <td>6182.0</td>\n",
       "    </tr>\n",
       "    <tr>\n",
       "      <th>2</th>\n",
       "      <td>2016-01-01</td>\n",
       "      <td>1._Juli_de.wikipedia.org_desktop_all-agents</td>\n",
       "      <td>20.0</td>\n",
       "    </tr>\n",
       "    <tr>\n",
       "      <th>3</th>\n",
       "      <td>2016-01-01</td>\n",
       "      <td>2014_FIFA_World_Cup_en.wikipedia.org_all-acces...</td>\n",
       "      <td>5363.0</td>\n",
       "    </tr>\n",
       "    <tr>\n",
       "      <th>4</th>\n",
       "      <td>2016-01-01</td>\n",
       "      <td>2014_FIFA_World_Cup_en.wikipedia.org_desktop_a...</td>\n",
       "      <td>3186.0</td>\n",
       "    </tr>\n",
       "    <tr>\n",
       "      <th>5</th>\n",
       "      <td>2016-01-01</td>\n",
       "      <td>2014_FIFA_World_Cup_en.wikipedia.org_mobile-we...</td>\n",
       "      <td>2136.0</td>\n",
       "    </tr>\n",
       "    <tr>\n",
       "      <th>6</th>\n",
       "      <td>2016-01-01</td>\n",
       "      <td>2015_Copa_AmÃ©rica_en.wikipedia.org_all-access...</td>\n",
       "      <td>1160.0</td>\n",
       "    </tr>\n",
       "    <tr>\n",
       "      <th>7</th>\n",
       "      <td>2016-01-01</td>\n",
       "      <td>2015_Copa_AmÃ©rica_en.wikipedia.org_desktop_al...</td>\n",
       "      <td>564.0</td>\n",
       "    </tr>\n",
       "    <tr>\n",
       "      <th>8</th>\n",
       "      <td>2016-01-01</td>\n",
       "      <td>2015_Copa_AmÃ©rica_en.wikipedia.org_mobile-web...</td>\n",
       "      <td>580.0</td>\n",
       "    </tr>\n",
       "    <tr>\n",
       "      <th>9</th>\n",
       "      <td>2016-01-01</td>\n",
       "      <td>2015_in_film_en.wikipedia.org_all-access_all-a...</td>\n",
       "      <td>54347.0</td>\n",
       "    </tr>\n",
       "  </tbody>\n",
       "</table>\n",
       "</div>"
      ],
      "text/plain": [
       "        date                                               page   visits\n",
       "0 2016-01-01        .xxx_en.wikipedia.org_all-access_all-agents   7089.0\n",
       "1 2016-01-01        .xxx_en.wikipedia.org_mobile-web_all-agents   6182.0\n",
       "2 2016-01-01        1._Juli_de.wikipedia.org_desktop_all-agents     20.0\n",
       "3 2016-01-01  2014_FIFA_World_Cup_en.wikipedia.org_all-acces...   5363.0\n",
       "4 2016-01-01  2014_FIFA_World_Cup_en.wikipedia.org_desktop_a...   3186.0\n",
       "5 2016-01-01  2014_FIFA_World_Cup_en.wikipedia.org_mobile-we...   2136.0\n",
       "6 2016-01-01  2015_Copa_AmÃ©rica_en.wikipedia.org_all-access...   1160.0\n",
       "7 2016-01-01  2015_Copa_AmÃ©rica_en.wikipedia.org_desktop_al...    564.0\n",
       "8 2016-01-01  2015_Copa_AmÃ©rica_en.wikipedia.org_mobile-web...    580.0\n",
       "9 2016-01-01  2015_in_film_en.wikipedia.org_all-access_all-a...  54347.0"
      ]
     },
     "execution_count": 172,
     "metadata": {},
     "output_type": "execute_result"
    }
   ],
   "source": [
    "mydata.head(10)"
   ]
  },
  {
   "cell_type": "code",
   "execution_count": 173,
   "metadata": {},
   "outputs": [
    {
     "data": {
      "text/html": [
       "<div>\n",
       "<style scoped>\n",
       "    .dataframe tbody tr th:only-of-type {\n",
       "        vertical-align: middle;\n",
       "    }\n",
       "\n",
       "    .dataframe tbody tr th {\n",
       "        vertical-align: top;\n",
       "    }\n",
       "\n",
       "    .dataframe thead th {\n",
       "        text-align: right;\n",
       "    }\n",
       "</style>\n",
       "<table border=\"1\" class=\"dataframe\">\n",
       "  <thead>\n",
       "    <tr style=\"text-align: right;\">\n",
       "      <th></th>\n",
       "      <th>visits</th>\n",
       "    </tr>\n",
       "  </thead>\n",
       "  <tbody>\n",
       "    <tr>\n",
       "      <th>count</th>\n",
       "      <td>5.489130e+05</td>\n",
       "    </tr>\n",
       "    <tr>\n",
       "      <th>mean</th>\n",
       "      <td>5.891737e+04</td>\n",
       "    </tr>\n",
       "    <tr>\n",
       "      <th>std</th>\n",
       "      <td>8.945236e+05</td>\n",
       "    </tr>\n",
       "    <tr>\n",
       "      <th>min</th>\n",
       "      <td>1.000000e+00</td>\n",
       "    </tr>\n",
       "    <tr>\n",
       "      <th>25%</th>\n",
       "      <td>3.613000e+03</td>\n",
       "    </tr>\n",
       "    <tr>\n",
       "      <th>50%</th>\n",
       "      <td>8.041000e+03</td>\n",
       "    </tr>\n",
       "    <tr>\n",
       "      <th>75%</th>\n",
       "      <td>1.331900e+04</td>\n",
       "    </tr>\n",
       "    <tr>\n",
       "      <th>max</th>\n",
       "      <td>6.726426e+07</td>\n",
       "    </tr>\n",
       "  </tbody>\n",
       "</table>\n",
       "</div>"
      ],
      "text/plain": [
       "             visits\n",
       "count  5.489130e+05\n",
       "mean   5.891737e+04\n",
       "std    8.945236e+05\n",
       "min    1.000000e+00\n",
       "25%    3.613000e+03\n",
       "50%    8.041000e+03\n",
       "75%    1.331900e+04\n",
       "max    6.726426e+07"
      ]
     },
     "execution_count": 173,
     "metadata": {},
     "output_type": "execute_result"
    }
   ],
   "source": [
    "mydata.describe()"
   ]
  },
  {
   "cell_type": "code",
   "execution_count": 174,
   "metadata": {},
   "outputs": [
    {
     "name": "stdout",
     "output_type": "stream",
     "text": [
      "<class 'pandas.core.frame.DataFrame'>\n",
      "Int64Index: 549000 entries, 0 to 548999\n",
      "Data columns (total 3 columns):\n",
      " #   Column  Non-Null Count   Dtype         \n",
      "---  ------  --------------   -----         \n",
      " 0   date    549000 non-null  datetime64[ns]\n",
      " 1   page    549000 non-null  object        \n",
      " 2   visits  548913 non-null  float64       \n",
      "dtypes: datetime64[ns](1), float64(1), object(1)\n",
      "memory usage: 16.8+ MB\n"
     ]
    }
   ],
   "source": [
    "mydata.info()"
   ]
  },
  {
   "cell_type": "code",
   "execution_count": 175,
   "metadata": {},
   "outputs": [
    {
     "name": "stderr",
     "output_type": "stream",
     "text": [
      "C:\\Users\\loice\\AppData\\Roaming\\Python\\Python37\\site-packages\\ipykernel_launcher.py:1: FutureWarning: Treating datetime data as categorical rather than numeric in `.describe` is deprecated and will be removed in a future version of pandas. Specify `datetime_is_numeric=True` to silence this warning and adopt the future behavior now.\n",
      "  \"\"\"Entry point for launching an IPython kernel.\n"
     ]
    },
    {
     "data": {
      "text/plain": [
       "count                  549000\n",
       "unique                    366\n",
       "top       2016-01-01 00:00:00\n",
       "freq                     1500\n",
       "first     2016-01-01 00:00:00\n",
       "last      2016-12-31 00:00:00\n",
       "Name: date, dtype: object"
      ]
     },
     "execution_count": 175,
     "metadata": {},
     "output_type": "execute_result"
    }
   ],
   "source": [
    "mydata.date.describe()"
   ]
  },
  {
   "cell_type": "code",
   "execution_count": 176,
   "metadata": {},
   "outputs": [
    {
     "data": {
      "text/plain": [
       "date       0\n",
       "page       0\n",
       "visits    87\n",
       "dtype: int64"
      ]
     },
     "execution_count": 176,
     "metadata": {},
     "output_type": "execute_result"
    }
   ],
   "source": [
    "mydata.isnull().sum()"
   ]
  },
  {
   "cell_type": "markdown",
   "metadata": {},
   "source": [
    "Cleaning and Wrangling process."
   ]
  },
  {
   "cell_type": "code",
   "execution_count": 177,
   "metadata": {},
   "outputs": [],
   "source": [
    "mydata.dropna(inplace=True)"
   ]
  },
  {
   "cell_type": "code",
   "execution_count": 178,
   "metadata": {},
   "outputs": [],
   "source": [
    "mydata.drop_duplicates(inplace=True)"
   ]
  },
  {
   "cell_type": "code",
   "execution_count": 179,
   "metadata": {},
   "outputs": [
    {
     "name": "stdout",
     "output_type": "stream",
     "text": [
      "<class 'pandas.core.frame.DataFrame'>\n",
      "Int64Index: 548913 entries, 0 to 548999\n",
      "Data columns (total 3 columns):\n",
      " #   Column  Non-Null Count   Dtype         \n",
      "---  ------  --------------   -----         \n",
      " 0   date    548913 non-null  datetime64[ns]\n",
      " 1   page    548913 non-null  object        \n",
      " 2   visits  548913 non-null  float64       \n",
      "dtypes: datetime64[ns](1), float64(1), object(1)\n",
      "memory usage: 16.8+ MB\n"
     ]
    }
   ],
   "source": [
    "mydata.info()"
   ]
  },
  {
   "cell_type": "code",
   "execution_count": 180,
   "metadata": {},
   "outputs": [
    {
     "data": {
      "text/html": [
       "<div>\n",
       "<style scoped>\n",
       "    .dataframe tbody tr th:only-of-type {\n",
       "        vertical-align: middle;\n",
       "    }\n",
       "\n",
       "    .dataframe tbody tr th {\n",
       "        vertical-align: top;\n",
       "    }\n",
       "\n",
       "    .dataframe thead th {\n",
       "        text-align: right;\n",
       "    }\n",
       "</style>\n",
       "<table border=\"1\" class=\"dataframe\">\n",
       "  <thead>\n",
       "    <tr style=\"text-align: right;\">\n",
       "      <th></th>\n",
       "      <th>visits</th>\n",
       "    </tr>\n",
       "  </thead>\n",
       "  <tbody>\n",
       "    <tr>\n",
       "      <th>count</th>\n",
       "      <td>5.489130e+05</td>\n",
       "    </tr>\n",
       "    <tr>\n",
       "      <th>mean</th>\n",
       "      <td>5.891737e+04</td>\n",
       "    </tr>\n",
       "    <tr>\n",
       "      <th>std</th>\n",
       "      <td>8.945236e+05</td>\n",
       "    </tr>\n",
       "    <tr>\n",
       "      <th>min</th>\n",
       "      <td>1.000000e+00</td>\n",
       "    </tr>\n",
       "    <tr>\n",
       "      <th>25%</th>\n",
       "      <td>3.613000e+03</td>\n",
       "    </tr>\n",
       "    <tr>\n",
       "      <th>50%</th>\n",
       "      <td>8.041000e+03</td>\n",
       "    </tr>\n",
       "    <tr>\n",
       "      <th>75%</th>\n",
       "      <td>1.331900e+04</td>\n",
       "    </tr>\n",
       "    <tr>\n",
       "      <th>max</th>\n",
       "      <td>6.726426e+07</td>\n",
       "    </tr>\n",
       "  </tbody>\n",
       "</table>\n",
       "</div>"
      ],
      "text/plain": [
       "             visits\n",
       "count  5.489130e+05\n",
       "mean   5.891737e+04\n",
       "std    8.945236e+05\n",
       "min    1.000000e+00\n",
       "25%    3.613000e+03\n",
       "50%    8.041000e+03\n",
       "75%    1.331900e+04\n",
       "max    6.726426e+07"
      ]
     },
     "execution_count": 180,
     "metadata": {},
     "output_type": "execute_result"
    }
   ],
   "source": [
    "mydata.describe()"
   ]
  },
  {
   "cell_type": "code",
   "execution_count": 181,
   "metadata": {},
   "outputs": [
    {
     "data": {
      "text/plain": [
       "date      0\n",
       "page      0\n",
       "visits    0\n",
       "dtype: int64"
      ]
     },
     "execution_count": 181,
     "metadata": {},
     "output_type": "execute_result"
    }
   ],
   "source": [
    "mydata.isnull().sum()"
   ]
  },
  {
   "cell_type": "code",
   "execution_count": 182,
   "metadata": {},
   "outputs": [
    {
     "name": "stderr",
     "output_type": "stream",
     "text": [
      "C:\\Users\\loice\\AppData\\Roaming\\Python\\Python37\\site-packages\\ipykernel_launcher.py:1: FutureWarning: Treating datetime data as categorical rather than numeric in `.describe` is deprecated and will be removed in a future version of pandas. Specify `datetime_is_numeric=True` to silence this warning and adopt the future behavior now.\n",
      "  \"\"\"Entry point for launching an IPython kernel.\n"
     ]
    },
    {
     "data": {
      "text/plain": [
       "count                  548913\n",
       "unique                    366\n",
       "top       2016-01-01 00:00:00\n",
       "freq                     1500\n",
       "first     2016-01-01 00:00:00\n",
       "last      2016-12-31 00:00:00\n",
       "Name: date, dtype: object"
      ]
     },
     "execution_count": 182,
     "metadata": {},
     "output_type": "execute_result"
    }
   ],
   "source": [
    "mydata['date'].describe()"
   ]
  },
  {
   "cell_type": "code",
   "execution_count": 183,
   "metadata": {},
   "outputs": [
    {
     "data": {
      "text/html": [
       "<div>\n",
       "<style scoped>\n",
       "    .dataframe tbody tr th:only-of-type {\n",
       "        vertical-align: middle;\n",
       "    }\n",
       "\n",
       "    .dataframe tbody tr th {\n",
       "        vertical-align: top;\n",
       "    }\n",
       "\n",
       "    .dataframe thead th {\n",
       "        text-align: right;\n",
       "    }\n",
       "</style>\n",
       "<table border=\"1\" class=\"dataframe\">\n",
       "  <thead>\n",
       "    <tr style=\"text-align: right;\">\n",
       "      <th></th>\n",
       "      <th>date</th>\n",
       "      <th>page</th>\n",
       "      <th>visits</th>\n",
       "      <th>date1</th>\n",
       "      <th>time</th>\n",
       "    </tr>\n",
       "  </thead>\n",
       "  <tbody>\n",
       "    <tr>\n",
       "      <th>0</th>\n",
       "      <td>2016-01-01</td>\n",
       "      <td>.xxx_en.wikipedia.org_all-access_all-agents</td>\n",
       "      <td>7089.0</td>\n",
       "      <td>2016-01-01</td>\n",
       "      <td>00:00:00</td>\n",
       "    </tr>\n",
       "    <tr>\n",
       "      <th>1</th>\n",
       "      <td>2016-01-01</td>\n",
       "      <td>.xxx_en.wikipedia.org_mobile-web_all-agents</td>\n",
       "      <td>6182.0</td>\n",
       "      <td>2016-01-01</td>\n",
       "      <td>00:00:00</td>\n",
       "    </tr>\n",
       "    <tr>\n",
       "      <th>2</th>\n",
       "      <td>2016-01-01</td>\n",
       "      <td>1._Juli_de.wikipedia.org_desktop_all-agents</td>\n",
       "      <td>20.0</td>\n",
       "      <td>2016-01-01</td>\n",
       "      <td>00:00:00</td>\n",
       "    </tr>\n",
       "    <tr>\n",
       "      <th>3</th>\n",
       "      <td>2016-01-01</td>\n",
       "      <td>2014_FIFA_World_Cup_en.wikipedia.org_all-acces...</td>\n",
       "      <td>5363.0</td>\n",
       "      <td>2016-01-01</td>\n",
       "      <td>00:00:00</td>\n",
       "    </tr>\n",
       "    <tr>\n",
       "      <th>4</th>\n",
       "      <td>2016-01-01</td>\n",
       "      <td>2014_FIFA_World_Cup_en.wikipedia.org_desktop_a...</td>\n",
       "      <td>3186.0</td>\n",
       "      <td>2016-01-01</td>\n",
       "      <td>00:00:00</td>\n",
       "    </tr>\n",
       "    <tr>\n",
       "      <th>...</th>\n",
       "      <td>...</td>\n",
       "      <td>...</td>\n",
       "      <td>...</td>\n",
       "      <td>...</td>\n",
       "      <td>...</td>\n",
       "    </tr>\n",
       "    <tr>\n",
       "      <th>548995</th>\n",
       "      <td>2016-12-31</td>\n",
       "      <td>Zac_Efron_en.wikipedia.org_all-access_all-agents</td>\n",
       "      <td>13146.0</td>\n",
       "      <td>2016-12-31</td>\n",
       "      <td>00:00:00</td>\n",
       "    </tr>\n",
       "    <tr>\n",
       "      <th>548996</th>\n",
       "      <td>2016-12-31</td>\n",
       "      <td>Zayn_Malik_en.wikipedia.org_all-access_all-agents</td>\n",
       "      <td>12597.0</td>\n",
       "      <td>2016-12-31</td>\n",
       "      <td>00:00:00</td>\n",
       "    </tr>\n",
       "    <tr>\n",
       "      <th>548997</th>\n",
       "      <td>2016-12-31</td>\n",
       "      <td>Zendaya_en.wikipedia.org_all-access_all-agents</td>\n",
       "      <td>6217.0</td>\n",
       "      <td>2016-12-31</td>\n",
       "      <td>00:00:00</td>\n",
       "    </tr>\n",
       "    <tr>\n",
       "      <th>548998</th>\n",
       "      <td>2016-12-31</td>\n",
       "      <td>Zendaya_en.wikipedia.org_mobile-web_all-agents</td>\n",
       "      <td>4650.0</td>\n",
       "      <td>2016-12-31</td>\n",
       "      <td>00:00:00</td>\n",
       "    </tr>\n",
       "    <tr>\n",
       "      <th>548999</th>\n",
       "      <td>2016-12-31</td>\n",
       "      <td>Zodiac_Killer_en.wikipedia.org_all-access_all-...</td>\n",
       "      <td>6659.0</td>\n",
       "      <td>2016-12-31</td>\n",
       "      <td>00:00:00</td>\n",
       "    </tr>\n",
       "  </tbody>\n",
       "</table>\n",
       "<p>548913 rows × 5 columns</p>\n",
       "</div>"
      ],
      "text/plain": [
       "             date                                               page   visits  \\\n",
       "0      2016-01-01        .xxx_en.wikipedia.org_all-access_all-agents   7089.0   \n",
       "1      2016-01-01        .xxx_en.wikipedia.org_mobile-web_all-agents   6182.0   \n",
       "2      2016-01-01        1._Juli_de.wikipedia.org_desktop_all-agents     20.0   \n",
       "3      2016-01-01  2014_FIFA_World_Cup_en.wikipedia.org_all-acces...   5363.0   \n",
       "4      2016-01-01  2014_FIFA_World_Cup_en.wikipedia.org_desktop_a...   3186.0   \n",
       "...           ...                                                ...      ...   \n",
       "548995 2016-12-31   Zac_Efron_en.wikipedia.org_all-access_all-agents  13146.0   \n",
       "548996 2016-12-31  Zayn_Malik_en.wikipedia.org_all-access_all-agents  12597.0   \n",
       "548997 2016-12-31     Zendaya_en.wikipedia.org_all-access_all-agents   6217.0   \n",
       "548998 2016-12-31     Zendaya_en.wikipedia.org_mobile-web_all-agents   4650.0   \n",
       "548999 2016-12-31  Zodiac_Killer_en.wikipedia.org_all-access_all-...   6659.0   \n",
       "\n",
       "             date1      time  \n",
       "0       2016-01-01  00:00:00  \n",
       "1       2016-01-01  00:00:00  \n",
       "2       2016-01-01  00:00:00  \n",
       "3       2016-01-01  00:00:00  \n",
       "4       2016-01-01  00:00:00  \n",
       "...            ...       ...  \n",
       "548995  2016-12-31  00:00:00  \n",
       "548996  2016-12-31  00:00:00  \n",
       "548997  2016-12-31  00:00:00  \n",
       "548998  2016-12-31  00:00:00  \n",
       "548999  2016-12-31  00:00:00  \n",
       "\n",
       "[548913 rows x 5 columns]"
      ]
     },
     "execution_count": 183,
     "metadata": {},
     "output_type": "execute_result"
    }
   ],
   "source": [
    "#splitting date and time\n",
    "mydata['date1']=pd.to_datetime(mydata['date']).dt.date\n",
    "mydata['time']=pd.to_datetime(mydata['date']).dt.time\n",
    "mydata"
   ]
  },
  {
   "cell_type": "code",
   "execution_count": 184,
   "metadata": {},
   "outputs": [],
   "source": [
    "#dropping the unneeded columns\n",
    "mydroped=mydata.drop(['date','time'],axis=1)"
   ]
  },
  {
   "cell_type": "code",
   "execution_count": 185,
   "metadata": {},
   "outputs": [],
   "source": [
    "#1st trial to divide using wikipedia\n",
    "mywikitrial= mydroped[['language','device']]=mydroped['page'].str.split('wikipedia', expand=True)"
   ]
  },
  {
   "cell_type": "code",
   "execution_count": 186,
   "metadata": {},
   "outputs": [
    {
     "data": {
      "text/html": [
       "<div>\n",
       "<style scoped>\n",
       "    .dataframe tbody tr th:only-of-type {\n",
       "        vertical-align: middle;\n",
       "    }\n",
       "\n",
       "    .dataframe tbody tr th {\n",
       "        vertical-align: top;\n",
       "    }\n",
       "\n",
       "    .dataframe thead th {\n",
       "        text-align: right;\n",
       "    }\n",
       "</style>\n",
       "<table border=\"1\" class=\"dataframe\">\n",
       "  <thead>\n",
       "    <tr style=\"text-align: right;\">\n",
       "      <th></th>\n",
       "      <th>0</th>\n",
       "      <th>1</th>\n",
       "    </tr>\n",
       "  </thead>\n",
       "  <tbody>\n",
       "    <tr>\n",
       "      <th>0</th>\n",
       "      <td>.xxx_en.</td>\n",
       "      <td>.org_all-access_all-agents</td>\n",
       "    </tr>\n",
       "    <tr>\n",
       "      <th>1</th>\n",
       "      <td>.xxx_en.</td>\n",
       "      <td>.org_mobile-web_all-agents</td>\n",
       "    </tr>\n",
       "  </tbody>\n",
       "</table>\n",
       "</div>"
      ],
      "text/plain": [
       "          0                           1\n",
       "0  .xxx_en.  .org_all-access_all-agents\n",
       "1  .xxx_en.  .org_mobile-web_all-agents"
      ]
     },
     "execution_count": 186,
     "metadata": {},
     "output_type": "execute_result"
    }
   ],
   "source": [
    "mywikitrial.head(2)"
   ]
  },
  {
   "cell_type": "code",
   "execution_count": 187,
   "metadata": {},
   "outputs": [
    {
     "data": {
      "text/html": [
       "<div>\n",
       "<style scoped>\n",
       "    .dataframe tbody tr th:only-of-type {\n",
       "        vertical-align: middle;\n",
       "    }\n",
       "\n",
       "    .dataframe tbody tr th {\n",
       "        vertical-align: top;\n",
       "    }\n",
       "\n",
       "    .dataframe thead th {\n",
       "        text-align: right;\n",
       "    }\n",
       "</style>\n",
       "<table border=\"1\" class=\"dataframe\">\n",
       "  <thead>\n",
       "    <tr style=\"text-align: right;\">\n",
       "      <th></th>\n",
       "      <th>page</th>\n",
       "      <th>visits</th>\n",
       "      <th>date1</th>\n",
       "      <th>language</th>\n",
       "      <th>device</th>\n",
       "    </tr>\n",
       "  </thead>\n",
       "  <tbody>\n",
       "    <tr>\n",
       "      <th>0</th>\n",
       "      <td>.xxx_en.wikipedia.org_all-access_all-agents</td>\n",
       "      <td>7089.0</td>\n",
       "      <td>2016-01-01</td>\n",
       "      <td>.xxx_en.</td>\n",
       "      <td>.org_all-access_all-agents</td>\n",
       "    </tr>\n",
       "    <tr>\n",
       "      <th>1</th>\n",
       "      <td>.xxx_en.wikipedia.org_mobile-web_all-agents</td>\n",
       "      <td>6182.0</td>\n",
       "      <td>2016-01-01</td>\n",
       "      <td>.xxx_en.</td>\n",
       "      <td>.org_mobile-web_all-agents</td>\n",
       "    </tr>\n",
       "  </tbody>\n",
       "</table>\n",
       "</div>"
      ],
      "text/plain": [
       "                                          page  visits       date1  language  \\\n",
       "0  .xxx_en.wikipedia.org_all-access_all-agents  7089.0  2016-01-01  .xxx_en.   \n",
       "1  .xxx_en.wikipedia.org_mobile-web_all-agents  6182.0  2016-01-01  .xxx_en.   \n",
       "\n",
       "                       device  \n",
       "0  .org_all-access_all-agents  \n",
       "1  .org_mobile-web_all-agents  "
      ]
     },
     "execution_count": 187,
     "metadata": {},
     "output_type": "execute_result"
    }
   ],
   "source": [
    "mydroped.head(2)"
   ]
  },
  {
   "cell_type": "code",
   "execution_count": 188,
   "metadata": {},
   "outputs": [
    {
     "data": {
      "text/plain": [
       "page           0\n",
       "visits         0\n",
       "date1          0\n",
       "language       0\n",
       "device      6222\n",
       "dtype: int64"
      ]
     },
     "execution_count": 188,
     "metadata": {},
     "output_type": "execute_result"
    }
   ],
   "source": [
    "mydroped.isna().sum()"
   ]
  },
  {
   "cell_type": "code",
   "execution_count": 189,
   "metadata": {},
   "outputs": [
    {
     "data": {
      "text/plain": [
       "6222"
      ]
     },
     "execution_count": 189,
     "metadata": {},
     "output_type": "execute_result"
    }
   ],
   "source": [
    "mydroped['device'].isna().sum()"
   ]
  },
  {
   "cell_type": "code",
   "execution_count": 190,
   "metadata": {},
   "outputs": [],
   "source": [
    "mydroped['device'].replace({None:'No_device'},inplace=True)"
   ]
  },
  {
   "cell_type": "code",
   "execution_count": 191,
   "metadata": {},
   "outputs": [
    {
     "data": {
      "text/plain": [
       "page        0\n",
       "visits      0\n",
       "date1       0\n",
       "language    0\n",
       "device      0\n",
       "dtype: int64"
      ]
     },
     "execution_count": 191,
     "metadata": {},
     "output_type": "execute_result"
    }
   ],
   "source": [
    "mydroped.isna().sum()"
   ]
  },
  {
   "cell_type": "code",
   "execution_count": 192,
   "metadata": {},
   "outputs": [
    {
     "data": {
      "text/html": [
       "<div>\n",
       "<style scoped>\n",
       "    .dataframe tbody tr th:only-of-type {\n",
       "        vertical-align: middle;\n",
       "    }\n",
       "\n",
       "    .dataframe tbody tr th {\n",
       "        vertical-align: top;\n",
       "    }\n",
       "\n",
       "    .dataframe thead th {\n",
       "        text-align: right;\n",
       "    }\n",
       "</style>\n",
       "<table border=\"1\" class=\"dataframe\">\n",
       "  <thead>\n",
       "    <tr style=\"text-align: right;\">\n",
       "      <th></th>\n",
       "      <th>visits</th>\n",
       "    </tr>\n",
       "  </thead>\n",
       "  <tbody>\n",
       "    <tr>\n",
       "      <th>count</th>\n",
       "      <td>5.489130e+05</td>\n",
       "    </tr>\n",
       "    <tr>\n",
       "      <th>mean</th>\n",
       "      <td>5.891737e+04</td>\n",
       "    </tr>\n",
       "    <tr>\n",
       "      <th>std</th>\n",
       "      <td>8.945236e+05</td>\n",
       "    </tr>\n",
       "    <tr>\n",
       "      <th>min</th>\n",
       "      <td>1.000000e+00</td>\n",
       "    </tr>\n",
       "    <tr>\n",
       "      <th>25%</th>\n",
       "      <td>3.613000e+03</td>\n",
       "    </tr>\n",
       "    <tr>\n",
       "      <th>50%</th>\n",
       "      <td>8.041000e+03</td>\n",
       "    </tr>\n",
       "    <tr>\n",
       "      <th>75%</th>\n",
       "      <td>1.331900e+04</td>\n",
       "    </tr>\n",
       "    <tr>\n",
       "      <th>max</th>\n",
       "      <td>6.726426e+07</td>\n",
       "    </tr>\n",
       "  </tbody>\n",
       "</table>\n",
       "</div>"
      ],
      "text/plain": [
       "             visits\n",
       "count  5.489130e+05\n",
       "mean   5.891737e+04\n",
       "std    8.945236e+05\n",
       "min    1.000000e+00\n",
       "25%    3.613000e+03\n",
       "50%    8.041000e+03\n",
       "75%    1.331900e+04\n",
       "max    6.726426e+07"
      ]
     },
     "execution_count": 192,
     "metadata": {},
     "output_type": "execute_result"
    }
   ],
   "source": [
    "mydroped.describe()"
   ]
  },
  {
   "cell_type": "code",
   "execution_count": 193,
   "metadata": {},
   "outputs": [
    {
     "name": "stdout",
     "output_type": "stream",
     "text": [
      "<class 'pandas.core.frame.DataFrame'>\n",
      "Int64Index: 548913 entries, 0 to 548999\n",
      "Data columns (total 5 columns):\n",
      " #   Column    Non-Null Count   Dtype  \n",
      "---  ------    --------------   -----  \n",
      " 0   page      548913 non-null  object \n",
      " 1   visits    548913 non-null  float64\n",
      " 2   date1     548913 non-null  object \n",
      " 3   language  548913 non-null  object \n",
      " 4   device    548913 non-null  object \n",
      "dtypes: float64(1), object(4)\n",
      "memory usage: 25.1+ MB\n"
     ]
    }
   ],
   "source": [
    "mydroped.info()"
   ]
  },
  {
   "cell_type": "markdown",
   "metadata": {},
   "source": [
    "# Grouping according to language."
   ]
  },
  {
   "cell_type": "markdown",
   "metadata": {},
   "source": [
    "Answer to Question 4."
   ]
  },
  {
   "cell_type": "code",
   "execution_count": 194,
   "metadata": {},
   "outputs": [],
   "source": [
    "#Check the length of the unique language groups.\n",
    "uniq_lang=pd.unique(mydroped['language'])"
   ]
  },
  {
   "cell_type": "code",
   "execution_count": 195,
   "metadata": {},
   "outputs": [
    {
     "data": {
      "text/plain": [
       "975"
      ]
     },
     "execution_count": 195,
     "metadata": {},
     "output_type": "execute_result"
    }
   ],
   "source": [
    "len(uniq_lang)"
   ]
  },
  {
   "cell_type": "code",
   "execution_count": 196,
   "metadata": {},
   "outputs": [],
   "source": [
    "#Group my data according to language\n",
    "langtypes=mydroped.groupby(pd.Grouper(key='language'),as_index=False).sum()"
   ]
  },
  {
   "cell_type": "code",
   "execution_count": 197,
   "metadata": {},
   "outputs": [
    {
     "data": {
      "text/html": [
       "<div>\n",
       "<style scoped>\n",
       "    .dataframe tbody tr th:only-of-type {\n",
       "        vertical-align: middle;\n",
       "    }\n",
       "\n",
       "    .dataframe tbody tr th {\n",
       "        vertical-align: top;\n",
       "    }\n",
       "\n",
       "    .dataframe thead th {\n",
       "        text-align: right;\n",
       "    }\n",
       "</style>\n",
       "<table border=\"1\" class=\"dataframe\">\n",
       "  <thead>\n",
       "    <tr style=\"text-align: right;\">\n",
       "      <th></th>\n",
       "      <th>language</th>\n",
       "      <th>visits</th>\n",
       "    </tr>\n",
       "  </thead>\n",
       "  <tbody>\n",
       "    <tr>\n",
       "      <th>0</th>\n",
       "      <td>.xxx_en.</td>\n",
       "      <td>5141243.0</td>\n",
       "    </tr>\n",
       "    <tr>\n",
       "      <th>1</th>\n",
       "      <td>1._Juli_de.</td>\n",
       "      <td>39357.0</td>\n",
       "    </tr>\n",
       "    <tr>\n",
       "      <th>2</th>\n",
       "      <td>2014_FIFA_World_Cup_en.</td>\n",
       "      <td>5374533.0</td>\n",
       "    </tr>\n",
       "    <tr>\n",
       "      <th>3</th>\n",
       "      <td>2015_Copa_AmÃ©rica_en.</td>\n",
       "      <td>1872037.0</td>\n",
       "    </tr>\n",
       "    <tr>\n",
       "      <th>4</th>\n",
       "      <td>2015_in_film_en.</td>\n",
       "      <td>6210011.0</td>\n",
       "    </tr>\n",
       "    <tr>\n",
       "      <th>5</th>\n",
       "      <td>2015â€“16_UEFA_Champions_League_en.</td>\n",
       "      <td>3716296.0</td>\n",
       "    </tr>\n",
       "    <tr>\n",
       "      <th>6</th>\n",
       "      <td>2015â€“16_UEFA_Europa_League_en.</td>\n",
       "      <td>724098.0</td>\n",
       "    </tr>\n",
       "    <tr>\n",
       "      <th>7</th>\n",
       "      <td>2015å¹´å…«ä»™æ¨‚åœ’æ´¾å°ç²‰å¡µçˆ†ç‚¸äº‹æ•…_zh.</td>\n",
       "      <td>339537.0</td>\n",
       "    </tr>\n",
       "    <tr>\n",
       "      <th>8</th>\n",
       "      <td>2016_Summer_Olympics_en.</td>\n",
       "      <td>14176775.0</td>\n",
       "    </tr>\n",
       "    <tr>\n",
       "      <th>9</th>\n",
       "      <td>2018_FIFA_World_Cup_en.</td>\n",
       "      <td>2588977.0</td>\n",
       "    </tr>\n",
       "  </tbody>\n",
       "</table>\n",
       "</div>"
      ],
      "text/plain": [
       "                                          language      visits\n",
       "0                                         .xxx_en.   5141243.0\n",
       "1                                      1._Juli_de.     39357.0\n",
       "2                          2014_FIFA_World_Cup_en.   5374533.0\n",
       "3                           2015_Copa_AmÃ©rica_en.   1872037.0\n",
       "4                                 2015_in_film_en.   6210011.0\n",
       "5              2015â€“16_UEFA_Champions_League_en.   3716296.0\n",
       "6                 2015â€“16_UEFA_Europa_League_en.    724098.0\n",
       "7  2015å¹´å…«ä»™æ¨‚åœ’æ´¾å°ç²‰å¡µçˆ†ç‚¸äº‹æ•…_zh.    339537.0\n",
       "8                         2016_Summer_Olympics_en.  14176775.0\n",
       "9                          2018_FIFA_World_Cup_en.   2588977.0"
      ]
     },
     "execution_count": 197,
     "metadata": {},
     "output_type": "execute_result"
    }
   ],
   "source": [
    "langtypes.head(10)"
   ]
  },
  {
   "cell_type": "code",
   "execution_count": 198,
   "metadata": {},
   "outputs": [],
   "source": [
    "langtypes.to_excel('my2nd_langtype.xlsx')"
   ]
  },
  {
   "cell_type": "markdown",
   "metadata": {},
   "source": [
    "After viewing the data"
   ]
  },
  {
   "cell_type": "code",
   "execution_count": 199,
   "metadata": {},
   "outputs": [],
   "source": [
    "vwd_lang_data=pd.read_excel('my2nd_langtype.xlsx',index_col=0)"
   ]
  },
  {
   "cell_type": "code",
   "execution_count": 200,
   "metadata": {},
   "outputs": [
    {
     "data": {
      "text/html": [
       "<div>\n",
       "<style scoped>\n",
       "    .dataframe tbody tr th:only-of-type {\n",
       "        vertical-align: middle;\n",
       "    }\n",
       "\n",
       "    .dataframe tbody tr th {\n",
       "        vertical-align: top;\n",
       "    }\n",
       "\n",
       "    .dataframe thead th {\n",
       "        text-align: right;\n",
       "    }\n",
       "</style>\n",
       "<table border=\"1\" class=\"dataframe\">\n",
       "  <thead>\n",
       "    <tr style=\"text-align: right;\">\n",
       "      <th></th>\n",
       "      <th>language</th>\n",
       "      <th>visits</th>\n",
       "    </tr>\n",
       "  </thead>\n",
       "  <tbody>\n",
       "    <tr>\n",
       "      <th>0</th>\n",
       "      <td>.xxx_en.</td>\n",
       "      <td>5141243</td>\n",
       "    </tr>\n",
       "    <tr>\n",
       "      <th>1</th>\n",
       "      <td>1._Juli_de.</td>\n",
       "      <td>39357</td>\n",
       "    </tr>\n",
       "  </tbody>\n",
       "</table>\n",
       "</div>"
      ],
      "text/plain": [
       "      language   visits\n",
       "0     .xxx_en.  5141243\n",
       "1  1._Juli_de.    39357"
      ]
     },
     "execution_count": 200,
     "metadata": {},
     "output_type": "execute_result"
    }
   ],
   "source": [
    "vwd_lang_data.head(2)"
   ]
  },
  {
   "cell_type": "code",
   "execution_count": 201,
   "metadata": {},
   "outputs": [
    {
     "name": "stdout",
     "output_type": "stream",
     "text": [
      "<class 'pandas.core.frame.DataFrame'>\n",
      "Int64Index: 975 entries, 0 to 974\n",
      "Data columns (total 2 columns):\n",
      " #   Column    Non-Null Count  Dtype \n",
      "---  ------    --------------  ----- \n",
      " 0   language  975 non-null    object\n",
      " 1   visits    975 non-null    int64 \n",
      "dtypes: int64(1), object(1)\n",
      "memory usage: 22.9+ KB\n"
     ]
    }
   ],
   "source": [
    "vwd_lang_data.info()"
   ]
  },
  {
   "cell_type": "code",
   "execution_count": 202,
   "metadata": {},
   "outputs": [],
   "source": [
    "#slicing out the characters that have language types.\n",
    "vwd_lang_data['languagespecfc']=vwd_lang_data['language'].str[-3:]"
   ]
  },
  {
   "cell_type": "code",
   "execution_count": 203,
   "metadata": {},
   "outputs": [
    {
     "data": {
      "text/html": [
       "<div>\n",
       "<style scoped>\n",
       "    .dataframe tbody tr th:only-of-type {\n",
       "        vertical-align: middle;\n",
       "    }\n",
       "\n",
       "    .dataframe tbody tr th {\n",
       "        vertical-align: top;\n",
       "    }\n",
       "\n",
       "    .dataframe thead th {\n",
       "        text-align: right;\n",
       "    }\n",
       "</style>\n",
       "<table border=\"1\" class=\"dataframe\">\n",
       "  <thead>\n",
       "    <tr style=\"text-align: right;\">\n",
       "      <th></th>\n",
       "      <th>language</th>\n",
       "      <th>visits</th>\n",
       "      <th>languagespecfc</th>\n",
       "    </tr>\n",
       "  </thead>\n",
       "  <tbody>\n",
       "    <tr>\n",
       "      <th>0</th>\n",
       "      <td>.xxx_en.</td>\n",
       "      <td>5141243</td>\n",
       "      <td>en.</td>\n",
       "    </tr>\n",
       "    <tr>\n",
       "      <th>1</th>\n",
       "      <td>1._Juli_de.</td>\n",
       "      <td>39357</td>\n",
       "      <td>de.</td>\n",
       "    </tr>\n",
       "  </tbody>\n",
       "</table>\n",
       "</div>"
      ],
      "text/plain": [
       "      language   visits languagespecfc\n",
       "0     .xxx_en.  5141243            en.\n",
       "1  1._Juli_de.    39357            de."
      ]
     },
     "execution_count": 203,
     "metadata": {},
     "output_type": "execute_result"
    }
   ],
   "source": [
    "vwd_lang_data.head(2)"
   ]
  },
  {
   "cell_type": "code",
   "execution_count": 204,
   "metadata": {},
   "outputs": [
    {
     "data": {
      "text/html": [
       "<div>\n",
       "<style scoped>\n",
       "    .dataframe tbody tr th:only-of-type {\n",
       "        vertical-align: middle;\n",
       "    }\n",
       "\n",
       "    .dataframe tbody tr th {\n",
       "        vertical-align: top;\n",
       "    }\n",
       "\n",
       "    .dataframe thead th {\n",
       "        text-align: right;\n",
       "    }\n",
       "</style>\n",
       "<table border=\"1\" class=\"dataframe\">\n",
       "  <thead>\n",
       "    <tr style=\"text-align: right;\">\n",
       "      <th></th>\n",
       "      <th>languagespecfc</th>\n",
       "      <th>visits</th>\n",
       "    </tr>\n",
       "  </thead>\n",
       "  <tbody>\n",
       "    <tr>\n",
       "      <th>0</th>\n",
       "      <td>en.</td>\n",
       "      <td>24041277219</td>\n",
       "    </tr>\n",
       "    <tr>\n",
       "      <th>1</th>\n",
       "      <td>de.</td>\n",
       "      <td>2593807873</td>\n",
       "    </tr>\n",
       "    <tr>\n",
       "      <th>2</th>\n",
       "      <td>zh.</td>\n",
       "      <td>260040471</td>\n",
       "    </tr>\n",
       "    <tr>\n",
       "      <th>3</th>\n",
       "      <td>ja.</td>\n",
       "      <td>527952530</td>\n",
       "    </tr>\n",
       "    <tr>\n",
       "      <th>4</th>\n",
       "      <td>es.</td>\n",
       "      <td>1408561332</td>\n",
       "    </tr>\n",
       "    <tr>\n",
       "      <th>5</th>\n",
       "      <td>fr.</td>\n",
       "      <td>1392899403</td>\n",
       "    </tr>\n",
       "    <tr>\n",
       "      <th>6</th>\n",
       "      <td>ru.</td>\n",
       "      <td>1889218803</td>\n",
       "    </tr>\n",
       "    <tr>\n",
       "      <th>7</th>\n",
       "      <td>nts</td>\n",
       "      <td>225057162</td>\n",
       "    </tr>\n",
       "    <tr>\n",
       "      <th>8</th>\n",
       "      <td>der</td>\n",
       "      <td>1693307</td>\n",
       "    </tr>\n",
       "  </tbody>\n",
       "</table>\n",
       "</div>"
      ],
      "text/plain": [
       "  languagespecfc       visits\n",
       "0            en.  24041277219\n",
       "1            de.   2593807873\n",
       "2            zh.    260040471\n",
       "3            ja.    527952530\n",
       "4            es.   1408561332\n",
       "5            fr.   1392899403\n",
       "6            ru.   1889218803\n",
       "7            nts    225057162\n",
       "8            der      1693307"
      ]
     },
     "execution_count": 204,
     "metadata": {},
     "output_type": "execute_result"
    }
   ],
   "source": [
    "#Groupby the types of language.\n",
    "langtypespec=vwd_lang_data.groupby(pd.Grouper(key='languagespecfc'),as_index=False,sort=True).sum()\n",
    "langtypespec.head(10)"
   ]
  },
  {
   "cell_type": "code",
   "execution_count": 205,
   "metadata": {},
   "outputs": [
    {
     "data": {
      "text/plain": [
       "9"
      ]
     },
     "execution_count": 205,
     "metadata": {},
     "output_type": "execute_result"
    }
   ],
   "source": [
    "len(langtypespec)"
   ]
  },
  {
   "cell_type": "code",
   "execution_count": 206,
   "metadata": {},
   "outputs": [],
   "source": [
    "langtypespec.to_excel('lang_with_specifics.xlsx')"
   ]
  },
  {
   "cell_type": "markdown",
   "metadata": {},
   "source": [
    "# Grouping according to device."
   ]
  },
  {
   "cell_type": "markdown",
   "metadata": {},
   "source": [
    "Answer to Question 7"
   ]
  },
  {
   "cell_type": "code",
   "execution_count": 207,
   "metadata": {},
   "outputs": [],
   "source": [
    "#Check the length of the unique device group.\n",
    "uniq_device=pd.unique(mydroped['device'])"
   ]
  },
  {
   "cell_type": "code",
   "execution_count": 208,
   "metadata": {},
   "outputs": [
    {
     "data": {
      "text/plain": [
       "5"
      ]
     },
     "execution_count": 208,
     "metadata": {},
     "output_type": "execute_result"
    }
   ],
   "source": [
    "len(uniq_device)"
   ]
  },
  {
   "cell_type": "code",
   "execution_count": 209,
   "metadata": {},
   "outputs": [
    {
     "data": {
      "text/html": [
       "<div>\n",
       "<style scoped>\n",
       "    .dataframe tbody tr th:only-of-type {\n",
       "        vertical-align: middle;\n",
       "    }\n",
       "\n",
       "    .dataframe tbody tr th {\n",
       "        vertical-align: top;\n",
       "    }\n",
       "\n",
       "    .dataframe thead th {\n",
       "        text-align: right;\n",
       "    }\n",
       "</style>\n",
       "<table border=\"1\" class=\"dataframe\">\n",
       "  <thead>\n",
       "    <tr style=\"text-align: right;\">\n",
       "      <th></th>\n",
       "      <th>device</th>\n",
       "      <th>visits</th>\n",
       "    </tr>\n",
       "  </thead>\n",
       "  <tbody>\n",
       "    <tr>\n",
       "      <th>0</th>\n",
       "      <td>.org_all-access_all-agents</td>\n",
       "      <td>1.722891e+10</td>\n",
       "    </tr>\n",
       "    <tr>\n",
       "      <th>1</th>\n",
       "      <td>.org_mobile-web_all-agents</td>\n",
       "      <td>4.593680e+09</td>\n",
       "    </tr>\n",
       "    <tr>\n",
       "      <th>2</th>\n",
       "      <td>.org_desktop_all-agents</td>\n",
       "      <td>1.015998e+10</td>\n",
       "    </tr>\n",
       "    <tr>\n",
       "      <th>3</th>\n",
       "      <td>.org_all-access_spider</td>\n",
       "      <td>1.311924e+08</td>\n",
       "    </tr>\n",
       "    <tr>\n",
       "      <th>4</th>\n",
       "      <td>No_device</td>\n",
       "      <td>2.267505e+08</td>\n",
       "    </tr>\n",
       "  </tbody>\n",
       "</table>\n",
       "</div>"
      ],
      "text/plain": [
       "                       device        visits\n",
       "0  .org_all-access_all-agents  1.722891e+10\n",
       "1  .org_mobile-web_all-agents  4.593680e+09\n",
       "2     .org_desktop_all-agents  1.015998e+10\n",
       "3      .org_all-access_spider  1.311924e+08\n",
       "4                   No_device  2.267505e+08"
      ]
     },
     "execution_count": 209,
     "metadata": {},
     "output_type": "execute_result"
    }
   ],
   "source": [
    "#Group my data according to device.\n",
    "device_types=mydroped.groupby(pd.Grouper(key='device'),as_index=False,sort=True).sum()\n",
    "device_types.head(10)"
   ]
  },
  {
   "cell_type": "code",
   "execution_count": 210,
   "metadata": {},
   "outputs": [
    {
     "data": {
      "text/plain": [
       "5"
      ]
     },
     "execution_count": 210,
     "metadata": {},
     "output_type": "execute_result"
    }
   ],
   "source": [
    "len(device_types)"
   ]
  },
  {
   "cell_type": "code",
   "execution_count": 211,
   "metadata": {},
   "outputs": [],
   "source": [
    "#my final data with the devices and sum.\n",
    "device_types.to_excel('finall_device_data.xlsx')"
   ]
  },
  {
   "cell_type": "markdown",
   "metadata": {},
   "source": [
    "# Page with biggest decline and incline."
   ]
  },
  {
   "cell_type": "markdown",
   "metadata": {},
   "source": [
    "Answer to Question 2 and 3"
   ]
  },
  {
   "cell_type": "code",
   "execution_count": 212,
   "metadata": {},
   "outputs": [
    {
     "data": {
      "text/html": [
       "<div>\n",
       "<style scoped>\n",
       "    .dataframe tbody tr th:only-of-type {\n",
       "        vertical-align: middle;\n",
       "    }\n",
       "\n",
       "    .dataframe tbody tr th {\n",
       "        vertical-align: top;\n",
       "    }\n",
       "\n",
       "    .dataframe thead th {\n",
       "        text-align: right;\n",
       "    }\n",
       "</style>\n",
       "<table border=\"1\" class=\"dataframe\">\n",
       "  <thead>\n",
       "    <tr style=\"text-align: right;\">\n",
       "      <th></th>\n",
       "      <th>page</th>\n",
       "      <th>visits</th>\n",
       "      <th>date1</th>\n",
       "      <th>language</th>\n",
       "      <th>device</th>\n",
       "    </tr>\n",
       "  </thead>\n",
       "  <tbody>\n",
       "    <tr>\n",
       "      <th>0</th>\n",
       "      <td>.xxx_en.wikipedia.org_all-access_all-agents</td>\n",
       "      <td>7089.0</td>\n",
       "      <td>2016-01-01</td>\n",
       "      <td>.xxx_en.</td>\n",
       "      <td>.org_all-access_all-agents</td>\n",
       "    </tr>\n",
       "    <tr>\n",
       "      <th>1</th>\n",
       "      <td>.xxx_en.wikipedia.org_mobile-web_all-agents</td>\n",
       "      <td>6182.0</td>\n",
       "      <td>2016-01-01</td>\n",
       "      <td>.xxx_en.</td>\n",
       "      <td>.org_mobile-web_all-agents</td>\n",
       "    </tr>\n",
       "  </tbody>\n",
       "</table>\n",
       "</div>"
      ],
      "text/plain": [
       "                                          page  visits       date1  language  \\\n",
       "0  .xxx_en.wikipedia.org_all-access_all-agents  7089.0  2016-01-01  .xxx_en.   \n",
       "1  .xxx_en.wikipedia.org_mobile-web_all-agents  6182.0  2016-01-01  .xxx_en.   \n",
       "\n",
       "                       device  \n",
       "0  .org_all-access_all-agents  \n",
       "1  .org_mobile-web_all-agents  "
      ]
     },
     "execution_count": 212,
     "metadata": {},
     "output_type": "execute_result"
    }
   ],
   "source": [
    "mydroped.head(2)"
   ]
  },
  {
   "cell_type": "code",
   "execution_count": 213,
   "metadata": {},
   "outputs": [
    {
     "data": {
      "text/plain": [
       "page        0\n",
       "visits      0\n",
       "date1       0\n",
       "language    0\n",
       "device      0\n",
       "dtype: int64"
      ]
     },
     "execution_count": 213,
     "metadata": {},
     "output_type": "execute_result"
    }
   ],
   "source": [
    "mydroped.isna().sum()"
   ]
  },
  {
   "cell_type": "code",
   "execution_count": 214,
   "metadata": {},
   "outputs": [
    {
     "data": {
      "text/html": [
       "<div>\n",
       "<style scoped>\n",
       "    .dataframe tbody tr th:only-of-type {\n",
       "        vertical-align: middle;\n",
       "    }\n",
       "\n",
       "    .dataframe tbody tr th {\n",
       "        vertical-align: top;\n",
       "    }\n",
       "\n",
       "    .dataframe thead th {\n",
       "        text-align: right;\n",
       "    }\n",
       "</style>\n",
       "<table border=\"1\" class=\"dataframe\">\n",
       "  <thead>\n",
       "    <tr style=\"text-align: right;\">\n",
       "      <th></th>\n",
       "      <th>language</th>\n",
       "      <th>visits</th>\n",
       "    </tr>\n",
       "  </thead>\n",
       "  <tbody>\n",
       "    <tr>\n",
       "      <th>0</th>\n",
       "      <td>.xxx_en.</td>\n",
       "      <td>7023.556011</td>\n",
       "    </tr>\n",
       "    <tr>\n",
       "      <th>1</th>\n",
       "      <td>1._Juli_de.</td>\n",
       "      <td>107.532787</td>\n",
       "    </tr>\n",
       "  </tbody>\n",
       "</table>\n",
       "</div>"
      ],
      "text/plain": [
       "      language       visits\n",
       "0     .xxx_en.  7023.556011\n",
       "1  1._Juli_de.   107.532787"
      ]
     },
     "execution_count": 214,
     "metadata": {},
     "output_type": "execute_result"
    }
   ],
   "source": [
    "#Find general page aggregate.\n",
    "langagg=mydroped.groupby(pd.Grouper(key='language'),as_index=False).mean()\n",
    "langagg.head(2)"
   ]
  },
  {
   "cell_type": "code",
   "execution_count": 215,
   "metadata": {},
   "outputs": [
    {
     "data": {
      "text/html": [
       "<div>\n",
       "<style scoped>\n",
       "    .dataframe tbody tr th:only-of-type {\n",
       "        vertical-align: middle;\n",
       "    }\n",
       "\n",
       "    .dataframe tbody tr th {\n",
       "        vertical-align: top;\n",
       "    }\n",
       "\n",
       "    .dataframe thead th {\n",
       "        text-align: right;\n",
       "    }\n",
       "</style>\n",
       "<table border=\"1\" class=\"dataframe\">\n",
       "  <thead>\n",
       "    <tr style=\"text-align: right;\">\n",
       "      <th></th>\n",
       "      <th>language</th>\n",
       "      <th>visit_mean</th>\n",
       "    </tr>\n",
       "  </thead>\n",
       "  <tbody>\n",
       "    <tr>\n",
       "      <th>0</th>\n",
       "      <td>.xxx_en.</td>\n",
       "      <td>7023.556011</td>\n",
       "    </tr>\n",
       "    <tr>\n",
       "      <th>1</th>\n",
       "      <td>1._Juli_de.</td>\n",
       "      <td>107.532787</td>\n",
       "    </tr>\n",
       "  </tbody>\n",
       "</table>\n",
       "</div>"
      ],
      "text/plain": [
       "      language   visit_mean\n",
       "0     .xxx_en.  7023.556011\n",
       "1  1._Juli_de.   107.532787"
      ]
     },
     "execution_count": 215,
     "metadata": {},
     "output_type": "execute_result"
    }
   ],
   "source": [
    "langagg.rename(columns = {'visits':'visit_mean'}, inplace = True)\n",
    "langagg.head(2)"
   ]
  },
  {
   "cell_type": "code",
   "execution_count": 216,
   "metadata": {},
   "outputs": [
    {
     "data": {
      "text/plain": [
       "975"
      ]
     },
     "execution_count": 216,
     "metadata": {},
     "output_type": "execute_result"
    }
   ],
   "source": [
    "len(langagg)"
   ]
  },
  {
   "cell_type": "markdown",
   "metadata": {},
   "source": [
    "Maximum and Minimum page visit."
   ]
  },
  {
   "cell_type": "code",
   "execution_count": 217,
   "metadata": {},
   "outputs": [
    {
     "data": {
      "text/html": [
       "<div>\n",
       "<style scoped>\n",
       "    .dataframe tbody tr th:only-of-type {\n",
       "        vertical-align: middle;\n",
       "    }\n",
       "\n",
       "    .dataframe tbody tr th {\n",
       "        vertical-align: top;\n",
       "    }\n",
       "\n",
       "    .dataframe thead th {\n",
       "        text-align: right;\n",
       "    }\n",
       "</style>\n",
       "<table border=\"1\" class=\"dataframe\">\n",
       "  <thead>\n",
       "    <tr style=\"text-align: right;\">\n",
       "      <th></th>\n",
       "      <th>language</th>\n",
       "      <th>page</th>\n",
       "      <th>visits</th>\n",
       "      <th>date1</th>\n",
       "      <th>device</th>\n",
       "    </tr>\n",
       "  </thead>\n",
       "  <tbody>\n",
       "    <tr>\n",
       "      <th>0</th>\n",
       "      <td>.xxx_en.</td>\n",
       "      <td>.xxx_en.wikipedia.org_mobile-web_all-agents</td>\n",
       "      <td>15035.0</td>\n",
       "      <td>2016-12-31</td>\n",
       "      <td>.org_mobile-web_all-agents</td>\n",
       "    </tr>\n",
       "    <tr>\n",
       "      <th>1</th>\n",
       "      <td>1._Juli_de.</td>\n",
       "      <td>1._Juli_de.wikipedia.org_desktop_all-agents</td>\n",
       "      <td>20911.0</td>\n",
       "      <td>2016-12-31</td>\n",
       "      <td>.org_desktop_all-agents</td>\n",
       "    </tr>\n",
       "  </tbody>\n",
       "</table>\n",
       "</div>"
      ],
      "text/plain": [
       "      language                                         page   visits  \\\n",
       "0     .xxx_en.  .xxx_en.wikipedia.org_mobile-web_all-agents  15035.0   \n",
       "1  1._Juli_de.  1._Juli_de.wikipedia.org_desktop_all-agents  20911.0   \n",
       "\n",
       "        date1                      device  \n",
       "0  2016-12-31  .org_mobile-web_all-agents  \n",
       "1  2016-12-31     .org_desktop_all-agents  "
      ]
     },
     "execution_count": 217,
     "metadata": {},
     "output_type": "execute_result"
    }
   ],
   "source": [
    "#Find maximum page visits.\n",
    "langmax=mydroped.groupby(pd.Grouper(key='language'),as_index=False).max()\n",
    "langmax.head(2)"
   ]
  },
  {
   "cell_type": "code",
   "execution_count": 218,
   "metadata": {},
   "outputs": [
    {
     "data": {
      "text/plain": [
       "975"
      ]
     },
     "execution_count": 218,
     "metadata": {},
     "output_type": "execute_result"
    }
   ],
   "source": [
    "len(langmax)"
   ]
  },
  {
   "cell_type": "code",
   "execution_count": 219,
   "metadata": {},
   "outputs": [],
   "source": [
    "langmax.to_excel('mymax_lang.xlsx')"
   ]
  },
  {
   "cell_type": "code",
   "execution_count": 220,
   "metadata": {},
   "outputs": [
    {
     "data": {
      "text/html": [
       "<div>\n",
       "<style scoped>\n",
       "    .dataframe tbody tr th:only-of-type {\n",
       "        vertical-align: middle;\n",
       "    }\n",
       "\n",
       "    .dataframe tbody tr th {\n",
       "        vertical-align: top;\n",
       "    }\n",
       "\n",
       "    .dataframe thead th {\n",
       "        text-align: right;\n",
       "    }\n",
       "</style>\n",
       "<table border=\"1\" class=\"dataframe\">\n",
       "  <thead>\n",
       "    <tr style=\"text-align: right;\">\n",
       "      <th></th>\n",
       "      <th>language</th>\n",
       "      <th>page</th>\n",
       "      <th>visits</th>\n",
       "      <th>date1</th>\n",
       "      <th>device</th>\n",
       "    </tr>\n",
       "  </thead>\n",
       "  <tbody>\n",
       "    <tr>\n",
       "      <th>0</th>\n",
       "      <td>.xxx_en.</td>\n",
       "      <td>.xxx_en.wikipedia.org_all-access_all-agents</td>\n",
       "      <td>2215.0</td>\n",
       "      <td>2016-01-01</td>\n",
       "      <td>.org_all-access_all-agents</td>\n",
       "    </tr>\n",
       "    <tr>\n",
       "      <th>1</th>\n",
       "      <td>1._Juli_de.</td>\n",
       "      <td>1._Juli_de.wikipedia.org_desktop_all-agents</td>\n",
       "      <td>12.0</td>\n",
       "      <td>2016-01-01</td>\n",
       "      <td>.org_desktop_all-agents</td>\n",
       "    </tr>\n",
       "  </tbody>\n",
       "</table>\n",
       "</div>"
      ],
      "text/plain": [
       "      language                                         page  visits  \\\n",
       "0     .xxx_en.  .xxx_en.wikipedia.org_all-access_all-agents  2215.0   \n",
       "1  1._Juli_de.  1._Juli_de.wikipedia.org_desktop_all-agents    12.0   \n",
       "\n",
       "        date1                      device  \n",
       "0  2016-01-01  .org_all-access_all-agents  \n",
       "1  2016-01-01     .org_desktop_all-agents  "
      ]
     },
     "execution_count": 220,
     "metadata": {},
     "output_type": "execute_result"
    }
   ],
   "source": [
    "#Find minimum page visits.\n",
    "langmin=mydroped.groupby(pd.Grouper(key='language'),as_index=False).min()\n",
    "langmin.head(2)"
   ]
  },
  {
   "cell_type": "code",
   "execution_count": 221,
   "metadata": {},
   "outputs": [
    {
     "data": {
      "text/plain": [
       "975"
      ]
     },
     "execution_count": 221,
     "metadata": {},
     "output_type": "execute_result"
    }
   ],
   "source": [
    "len(langmin)"
   ]
  },
  {
   "cell_type": "code",
   "execution_count": 222,
   "metadata": {},
   "outputs": [],
   "source": [
    "langmin.to_excel('mymin_lang.xlsx')"
   ]
  },
  {
   "cell_type": "markdown",
   "metadata": {},
   "source": [
    "Rename of columns to find difference."
   ]
  },
  {
   "cell_type": "code",
   "execution_count": 223,
   "metadata": {},
   "outputs": [
    {
     "data": {
      "text/html": [
       "<div>\n",
       "<style scoped>\n",
       "    .dataframe tbody tr th:only-of-type {\n",
       "        vertical-align: middle;\n",
       "    }\n",
       "\n",
       "    .dataframe tbody tr th {\n",
       "        vertical-align: top;\n",
       "    }\n",
       "\n",
       "    .dataframe thead th {\n",
       "        text-align: right;\n",
       "    }\n",
       "</style>\n",
       "<table border=\"1\" class=\"dataframe\">\n",
       "  <thead>\n",
       "    <tr style=\"text-align: right;\">\n",
       "      <th></th>\n",
       "      <th>language</th>\n",
       "      <th>visit_mean</th>\n",
       "      <th>min_visit</th>\n",
       "    </tr>\n",
       "  </thead>\n",
       "  <tbody>\n",
       "    <tr>\n",
       "      <th>0</th>\n",
       "      <td>.xxx_en.</td>\n",
       "      <td>7023.556011</td>\n",
       "      <td>2215.0</td>\n",
       "    </tr>\n",
       "    <tr>\n",
       "      <th>1</th>\n",
       "      <td>1._Juli_de.</td>\n",
       "      <td>107.532787</td>\n",
       "      <td>12.0</td>\n",
       "    </tr>\n",
       "  </tbody>\n",
       "</table>\n",
       "</div>"
      ],
      "text/plain": [
       "      language   visit_mean  min_visit\n",
       "0     .xxx_en.  7023.556011     2215.0\n",
       "1  1._Juli_de.   107.532787       12.0"
      ]
     },
     "execution_count": 223,
     "metadata": {},
     "output_type": "execute_result"
    }
   ],
   "source": [
    "#Column renaming.\n",
    "langagg['min_visit']=langmin['visits']\n",
    "langagg.head(2)"
   ]
  },
  {
   "cell_type": "code",
   "execution_count": 224,
   "metadata": {},
   "outputs": [
    {
     "data": {
      "text/html": [
       "<div>\n",
       "<style scoped>\n",
       "    .dataframe tbody tr th:only-of-type {\n",
       "        vertical-align: middle;\n",
       "    }\n",
       "\n",
       "    .dataframe tbody tr th {\n",
       "        vertical-align: top;\n",
       "    }\n",
       "\n",
       "    .dataframe thead th {\n",
       "        text-align: right;\n",
       "    }\n",
       "</style>\n",
       "<table border=\"1\" class=\"dataframe\">\n",
       "  <thead>\n",
       "    <tr style=\"text-align: right;\">\n",
       "      <th></th>\n",
       "      <th>language</th>\n",
       "      <th>visit_mean</th>\n",
       "      <th>min_visit</th>\n",
       "      <th>max_visit</th>\n",
       "    </tr>\n",
       "  </thead>\n",
       "  <tbody>\n",
       "    <tr>\n",
       "      <th>0</th>\n",
       "      <td>.xxx_en.</td>\n",
       "      <td>7023.556011</td>\n",
       "      <td>2215.0</td>\n",
       "      <td>15035.0</td>\n",
       "    </tr>\n",
       "    <tr>\n",
       "      <th>1</th>\n",
       "      <td>1._Juli_de.</td>\n",
       "      <td>107.532787</td>\n",
       "      <td>12.0</td>\n",
       "      <td>20911.0</td>\n",
       "    </tr>\n",
       "  </tbody>\n",
       "</table>\n",
       "</div>"
      ],
      "text/plain": [
       "      language   visit_mean  min_visit  max_visit\n",
       "0     .xxx_en.  7023.556011     2215.0    15035.0\n",
       "1  1._Juli_de.   107.532787       12.0    20911.0"
      ]
     },
     "execution_count": 224,
     "metadata": {},
     "output_type": "execute_result"
    }
   ],
   "source": [
    "langagg['max_visit']=langmax['visits']\n",
    "langagg.head(2)"
   ]
  },
  {
   "cell_type": "code",
   "execution_count": 225,
   "metadata": {},
   "outputs": [
    {
     "data": {
      "text/html": [
       "<div>\n",
       "<style scoped>\n",
       "    .dataframe tbody tr th:only-of-type {\n",
       "        vertical-align: middle;\n",
       "    }\n",
       "\n",
       "    .dataframe tbody tr th {\n",
       "        vertical-align: top;\n",
       "    }\n",
       "\n",
       "    .dataframe thead th {\n",
       "        text-align: right;\n",
       "    }\n",
       "</style>\n",
       "<table border=\"1\" class=\"dataframe\">\n",
       "  <thead>\n",
       "    <tr style=\"text-align: right;\">\n",
       "      <th></th>\n",
       "      <th>language</th>\n",
       "      <th>visit_mean</th>\n",
       "      <th>min_visit</th>\n",
       "      <th>max_visit</th>\n",
       "      <th>diff_page_visits</th>\n",
       "    </tr>\n",
       "  </thead>\n",
       "  <tbody>\n",
       "    <tr>\n",
       "      <th>0</th>\n",
       "      <td>.xxx_en.</td>\n",
       "      <td>7023.556011</td>\n",
       "      <td>2215.0</td>\n",
       "      <td>15035.0</td>\n",
       "      <td>12820.0</td>\n",
       "    </tr>\n",
       "    <tr>\n",
       "      <th>1</th>\n",
       "      <td>1._Juli_de.</td>\n",
       "      <td>107.532787</td>\n",
       "      <td>12.0</td>\n",
       "      <td>20911.0</td>\n",
       "      <td>20899.0</td>\n",
       "    </tr>\n",
       "  </tbody>\n",
       "</table>\n",
       "</div>"
      ],
      "text/plain": [
       "      language   visit_mean  min_visit  max_visit  diff_page_visits\n",
       "0     .xxx_en.  7023.556011     2215.0    15035.0           12820.0\n",
       "1  1._Juli_de.   107.532787       12.0    20911.0           20899.0"
      ]
     },
     "execution_count": 225,
     "metadata": {},
     "output_type": "execute_result"
    }
   ],
   "source": [
    "#Getting difference in page visits.\n",
    "langagg['diff_page_visits']=langagg['max_visit']-langagg['min_visit']\n",
    "langagg.head(2)"
   ]
  },
  {
   "cell_type": "code",
   "execution_count": 226,
   "metadata": {},
   "outputs": [],
   "source": [
    "langagg.to_excel('with page difference.xlsx')"
   ]
  },
  {
   "cell_type": "code",
   "execution_count": 227,
   "metadata": {},
   "outputs": [
    {
     "data": {
      "text/html": [
       "<div>\n",
       "<style scoped>\n",
       "    .dataframe tbody tr th:only-of-type {\n",
       "        vertical-align: middle;\n",
       "    }\n",
       "\n",
       "    .dataframe tbody tr th {\n",
       "        vertical-align: top;\n",
       "    }\n",
       "\n",
       "    .dataframe thead th {\n",
       "        text-align: right;\n",
       "    }\n",
       "</style>\n",
       "<table border=\"1\" class=\"dataframe\">\n",
       "  <thead>\n",
       "    <tr style=\"text-align: right;\">\n",
       "      <th></th>\n",
       "      <th>language</th>\n",
       "      <th>visit_mean</th>\n",
       "      <th>min_visit</th>\n",
       "      <th>max_visit</th>\n",
       "      <th>diff_page_visits</th>\n",
       "    </tr>\n",
       "  </thead>\n",
       "  <tbody>\n",
       "    <tr>\n",
       "      <th>588</th>\n",
       "      <td>Main_Page_en.</td>\n",
       "      <td>1.170968e+07</td>\n",
       "      <td>72956.0</td>\n",
       "      <td>67264258.0</td>\n",
       "      <td>67191302.0</td>\n",
       "    </tr>\n",
       "    <tr>\n",
       "      <th>264</th>\n",
       "      <td>Ð—Ð°Ð³Ð»Ð°Ð²Ð½Ð°Ñ_ÑÑ‚Ñ€Ð°Ð½Ð¸Ñ†Ð°_ru.</td>\n",
       "      <td>1.478959e+06</td>\n",
       "      <td>343105.0</td>\n",
       "      <td>17846030.0</td>\n",
       "      <td>17502925.0</td>\n",
       "    </tr>\n",
       "    <tr>\n",
       "      <th>815</th>\n",
       "      <td>Special:Search_en.</td>\n",
       "      <td>1.500911e+06</td>\n",
       "      <td>309483.0</td>\n",
       "      <td>16991932.0</td>\n",
       "      <td>16682449.0</td>\n",
       "    </tr>\n",
       "    <tr>\n",
       "      <th>278</th>\n",
       "      <td>Donald_Trump_en.</td>\n",
       "      <td>1.416287e+05</td>\n",
       "      <td>16902.0</td>\n",
       "      <td>6137438.0</td>\n",
       "      <td>6120536.0</td>\n",
       "    </tr>\n",
       "    <tr>\n",
       "      <th>708</th>\n",
       "      <td>Prince_(musician)_en.</td>\n",
       "      <td>6.261184e+04</td>\n",
       "      <td>6634.0</td>\n",
       "      <td>5816910.0</td>\n",
       "      <td>5810276.0</td>\n",
       "    </tr>\n",
       "  </tbody>\n",
       "</table>\n",
       "</div>"
      ],
      "text/plain": [
       "                                    language    visit_mean  min_visit  \\\n",
       "588                            Main_Page_en.  1.170968e+07    72956.0   \n",
       "264  Ð—Ð°Ð³Ð»Ð°Ð²Ð½Ð°Ñ_ÑÑ‚Ñ€Ð°Ð½Ð¸Ñ†Ð°_ru.  1.478959e+06   343105.0   \n",
       "815                       Special:Search_en.  1.500911e+06   309483.0   \n",
       "278                         Donald_Trump_en.  1.416287e+05    16902.0   \n",
       "708                    Prince_(musician)_en.  6.261184e+04     6634.0   \n",
       "\n",
       "      max_visit  diff_page_visits  \n",
       "588  67264258.0        67191302.0  \n",
       "264  17846030.0        17502925.0  \n",
       "815  16991932.0        16682449.0  \n",
       "278   6137438.0         6120536.0  \n",
       "708   5816910.0         5810276.0  "
      ]
     },
     "execution_count": 227,
     "metadata": {},
     "output_type": "execute_result"
    }
   ],
   "source": [
    "sorted_max=langagg.sort_values(by=['diff_page_visits'],ascending=False)\n",
    "sorted_max.head(5)"
   ]
  },
  {
   "cell_type": "code",
   "execution_count": 228,
   "metadata": {},
   "outputs": [
    {
     "data": {
      "text/html": [
       "<div>\n",
       "<style scoped>\n",
       "    .dataframe tbody tr th:only-of-type {\n",
       "        vertical-align: middle;\n",
       "    }\n",
       "\n",
       "    .dataframe tbody tr th {\n",
       "        vertical-align: top;\n",
       "    }\n",
       "\n",
       "    .dataframe thead th {\n",
       "        text-align: right;\n",
       "    }\n",
       "</style>\n",
       "<table border=\"1\" class=\"dataframe\">\n",
       "  <thead>\n",
       "    <tr style=\"text-align: right;\">\n",
       "      <th></th>\n",
       "      <th>language</th>\n",
       "      <th>visit_mean</th>\n",
       "      <th>min_visit</th>\n",
       "      <th>max_visit</th>\n",
       "      <th>diff_page_visits</th>\n",
       "    </tr>\n",
       "  </thead>\n",
       "  <tbody>\n",
       "    <tr>\n",
       "      <th>60</th>\n",
       "      <td>æ–‰è—¤æ•è±ª_ja.</td>\n",
       "      <td>129.005464</td>\n",
       "      <td>57.0</td>\n",
       "      <td>434.0</td>\n",
       "      <td>377.0</td>\n",
       "    </tr>\n",
       "    <tr>\n",
       "      <th>298</th>\n",
       "      <td>è…”å®¤ç—‡å€™ç¾¤_zh.</td>\n",
       "      <td>46.315574</td>\n",
       "      <td>7.0</td>\n",
       "      <td>1381.0</td>\n",
       "      <td>1374.0</td>\n",
       "    </tr>\n",
       "    <tr>\n",
       "      <th>415</th>\n",
       "      <td>How_to_contribute_www.mediawiki.org_all-access...</td>\n",
       "      <td>698.587432</td>\n",
       "      <td>344.0</td>\n",
       "      <td>1972.0</td>\n",
       "      <td>1628.0</td>\n",
       "    </tr>\n",
       "    <tr>\n",
       "      <th>416</th>\n",
       "      <td>How_to_contribute_www.mediawiki.org_desktop_al...</td>\n",
       "      <td>568.136612</td>\n",
       "      <td>251.0</td>\n",
       "      <td>1885.0</td>\n",
       "      <td>1634.0</td>\n",
       "    </tr>\n",
       "    <tr>\n",
       "      <th>783</th>\n",
       "      <td>SIXTEEN_zh.</td>\n",
       "      <td>698.584699</td>\n",
       "      <td>186.0</td>\n",
       "      <td>2461.0</td>\n",
       "      <td>2275.0</td>\n",
       "    </tr>\n",
       "  </tbody>\n",
       "</table>\n",
       "</div>"
      ],
      "text/plain": [
       "                                              language  visit_mean  min_visit  \\\n",
       "60                                    æ–‰è—¤æ•è±ª_ja.  129.005464       57.0   \n",
       "298                                è…”å®¤ç—‡å€™ç¾¤_zh.   46.315574        7.0   \n",
       "415  How_to_contribute_www.mediawiki.org_all-access...  698.587432      344.0   \n",
       "416  How_to_contribute_www.mediawiki.org_desktop_al...  568.136612      251.0   \n",
       "783                                        SIXTEEN_zh.  698.584699      186.0   \n",
       "\n",
       "     max_visit  diff_page_visits  \n",
       "60       434.0             377.0  \n",
       "298     1381.0            1374.0  \n",
       "415     1972.0            1628.0  \n",
       "416     1885.0            1634.0  \n",
       "783     2461.0            2275.0  "
      ]
     },
     "execution_count": 228,
     "metadata": {},
     "output_type": "execute_result"
    }
   ],
   "source": [
    "sorted_min=langagg.sort_values(by=['diff_page_visits'],ascending=True)\n",
    "sorted_min.head(5)"
   ]
  },
  {
   "cell_type": "markdown",
   "metadata": {},
   "source": [
    "# Grouping by days of the week."
   ]
  },
  {
   "cell_type": "markdown",
   "metadata": {},
   "source": [
    "Answer to Question 5 and 6"
   ]
  },
  {
   "cell_type": "code",
   "execution_count": 229,
   "metadata": {},
   "outputs": [
    {
     "data": {
      "text/html": [
       "<div>\n",
       "<style scoped>\n",
       "    .dataframe tbody tr th:only-of-type {\n",
       "        vertical-align: middle;\n",
       "    }\n",
       "\n",
       "    .dataframe tbody tr th {\n",
       "        vertical-align: top;\n",
       "    }\n",
       "\n",
       "    .dataframe thead th {\n",
       "        text-align: right;\n",
       "    }\n",
       "</style>\n",
       "<table border=\"1\" class=\"dataframe\">\n",
       "  <thead>\n",
       "    <tr style=\"text-align: right;\">\n",
       "      <th></th>\n",
       "      <th>date1</th>\n",
       "      <th>visits</th>\n",
       "    </tr>\n",
       "  </thead>\n",
       "  <tbody>\n",
       "    <tr>\n",
       "      <th>0</th>\n",
       "      <td>2016-01-01</td>\n",
       "      <td>70110063.0</td>\n",
       "    </tr>\n",
       "    <tr>\n",
       "      <th>1</th>\n",
       "      <td>2016-01-02</td>\n",
       "      <td>75431128.0</td>\n",
       "    </tr>\n",
       "    <tr>\n",
       "      <th>2</th>\n",
       "      <td>2016-01-03</td>\n",
       "      <td>75690625.0</td>\n",
       "    </tr>\n",
       "    <tr>\n",
       "      <th>3</th>\n",
       "      <td>2016-01-04</td>\n",
       "      <td>80823742.0</td>\n",
       "    </tr>\n",
       "    <tr>\n",
       "      <th>4</th>\n",
       "      <td>2016-01-05</td>\n",
       "      <td>78846869.0</td>\n",
       "    </tr>\n",
       "  </tbody>\n",
       "</table>\n",
       "</div>"
      ],
      "text/plain": [
       "        date1      visits\n",
       "0  2016-01-01  70110063.0\n",
       "1  2016-01-02  75431128.0\n",
       "2  2016-01-03  75690625.0\n",
       "3  2016-01-04  80823742.0\n",
       "4  2016-01-05  78846869.0"
      ]
     },
     "execution_count": 229,
     "metadata": {},
     "output_type": "execute_result"
    }
   ],
   "source": [
    "sumday=mydroped.groupby(pd.Grouper(key='date1'),as_index=False).sum()\n",
    "sumday.head(5)"
   ]
  },
  {
   "cell_type": "code",
   "execution_count": 230,
   "metadata": {},
   "outputs": [
    {
     "name": "stdout",
     "output_type": "stream",
     "text": [
      "<class 'pandas.core.frame.DataFrame'>\n",
      "RangeIndex: 366 entries, 0 to 365\n",
      "Data columns (total 2 columns):\n",
      " #   Column  Non-Null Count  Dtype  \n",
      "---  ------  --------------  -----  \n",
      " 0   date1   366 non-null    object \n",
      " 1   visits  366 non-null    float64\n",
      "dtypes: float64(1), object(1)\n",
      "memory usage: 5.8+ KB\n"
     ]
    }
   ],
   "source": [
    "sumday.info()"
   ]
  },
  {
   "cell_type": "code",
   "execution_count": 231,
   "metadata": {},
   "outputs": [],
   "source": [
    "sumday.to_excel('no_of_week-days.xlsx')"
   ]
  },
  {
   "cell_type": "markdown",
   "metadata": {},
   "source": [
    "Group by week"
   ]
  },
  {
   "cell_type": "code",
   "execution_count": 232,
   "metadata": {},
   "outputs": [
    {
     "data": {
      "text/html": [
       "<div>\n",
       "<style scoped>\n",
       "    .dataframe tbody tr th:only-of-type {\n",
       "        vertical-align: middle;\n",
       "    }\n",
       "\n",
       "    .dataframe tbody tr th {\n",
       "        vertical-align: top;\n",
       "    }\n",
       "\n",
       "    .dataframe thead th {\n",
       "        text-align: right;\n",
       "    }\n",
       "</style>\n",
       "<table border=\"1\" class=\"dataframe\">\n",
       "  <thead>\n",
       "    <tr style=\"text-align: right;\">\n",
       "      <th></th>\n",
       "      <th>date</th>\n",
       "      <th>page</th>\n",
       "      <th>visits</th>\n",
       "      <th>date1</th>\n",
       "      <th>time</th>\n",
       "    </tr>\n",
       "  </thead>\n",
       "  <tbody>\n",
       "    <tr>\n",
       "      <th>0</th>\n",
       "      <td>2016-01-01</td>\n",
       "      <td>.xxx_en.wikipedia.org_all-access_all-agents</td>\n",
       "      <td>7089.0</td>\n",
       "      <td>2016-01-01</td>\n",
       "      <td>00:00:00</td>\n",
       "    </tr>\n",
       "    <tr>\n",
       "      <th>1</th>\n",
       "      <td>2016-01-01</td>\n",
       "      <td>.xxx_en.wikipedia.org_mobile-web_all-agents</td>\n",
       "      <td>6182.0</td>\n",
       "      <td>2016-01-01</td>\n",
       "      <td>00:00:00</td>\n",
       "    </tr>\n",
       "  </tbody>\n",
       "</table>\n",
       "</div>"
      ],
      "text/plain": [
       "        date                                         page  visits       date1  \\\n",
       "0 2016-01-01  .xxx_en.wikipedia.org_all-access_all-agents  7089.0  2016-01-01   \n",
       "1 2016-01-01  .xxx_en.wikipedia.org_mobile-web_all-agents  6182.0  2016-01-01   \n",
       "\n",
       "       time  \n",
       "0  00:00:00  \n",
       "1  00:00:00  "
      ]
     },
     "execution_count": 232,
     "metadata": {},
     "output_type": "execute_result"
    }
   ],
   "source": [
    "mydata.head(2)"
   ]
  },
  {
   "cell_type": "code",
   "execution_count": 233,
   "metadata": {},
   "outputs": [
    {
     "data": {
      "text/html": [
       "<div>\n",
       "<style scoped>\n",
       "    .dataframe tbody tr th:only-of-type {\n",
       "        vertical-align: middle;\n",
       "    }\n",
       "\n",
       "    .dataframe tbody tr th {\n",
       "        vertical-align: top;\n",
       "    }\n",
       "\n",
       "    .dataframe thead th {\n",
       "        text-align: right;\n",
       "    }\n",
       "</style>\n",
       "<table border=\"1\" class=\"dataframe\">\n",
       "  <thead>\n",
       "    <tr style=\"text-align: right;\">\n",
       "      <th></th>\n",
       "      <th>visits</th>\n",
       "    </tr>\n",
       "    <tr>\n",
       "      <th>date</th>\n",
       "      <th></th>\n",
       "    </tr>\n",
       "  </thead>\n",
       "  <tbody>\n",
       "    <tr>\n",
       "      <th>0</th>\n",
       "      <td>4.904875e+09</td>\n",
       "    </tr>\n",
       "    <tr>\n",
       "      <th>1</th>\n",
       "      <td>4.756254e+09</td>\n",
       "    </tr>\n",
       "    <tr>\n",
       "      <th>2</th>\n",
       "      <td>4.676263e+09</td>\n",
       "    </tr>\n",
       "    <tr>\n",
       "      <th>3</th>\n",
       "      <td>4.571745e+09</td>\n",
       "    </tr>\n",
       "    <tr>\n",
       "      <th>4</th>\n",
       "      <td>4.409638e+09</td>\n",
       "    </tr>\n",
       "    <tr>\n",
       "      <th>5</th>\n",
       "      <td>4.470286e+09</td>\n",
       "    </tr>\n",
       "    <tr>\n",
       "      <th>6</th>\n",
       "      <td>4.551448e+09</td>\n",
       "    </tr>\n",
       "  </tbody>\n",
       "</table>\n",
       "</div>"
      ],
      "text/plain": [
       "            visits\n",
       "date              \n",
       "0     4.904875e+09\n",
       "1     4.756254e+09\n",
       "2     4.676263e+09\n",
       "3     4.571745e+09\n",
       "4     4.409638e+09\n",
       "5     4.470286e+09\n",
       "6     4.551448e+09"
      ]
     },
     "execution_count": 233,
     "metadata": {},
     "output_type": "execute_result"
    }
   ],
   "source": [
    "week_data = mydata.groupby(mydata['date'].dt.weekday).sum()\n",
    "week_data.head(10)"
   ]
  },
  {
   "cell_type": "code",
   "execution_count": 234,
   "metadata": {},
   "outputs": [
    {
     "data": {
      "text/plain": [
       "visits    4.904875e+09\n",
       "dtype: float64"
      ]
     },
     "execution_count": 234,
     "metadata": {},
     "output_type": "execute_result"
    }
   ],
   "source": [
    "#Day ofthe week with most visits.\n",
    "weekday_max=week_data.max()\n",
    "weekday_max"
   ]
  },
  {
   "cell_type": "code",
   "execution_count": 235,
   "metadata": {},
   "outputs": [
    {
     "data": {
      "text/plain": [
       "visits    4.409638e+09\n",
       "dtype: float64"
      ]
     },
     "execution_count": 235,
     "metadata": {},
     "output_type": "execute_result"
    }
   ],
   "source": [
    "#Day ofthe week with leasr visits.\n",
    "weekday_min=week_data.min()\n",
    "weekday_min"
   ]
  },
  {
   "cell_type": "code",
   "execution_count": 236,
   "metadata": {},
   "outputs": [],
   "source": [
    "week_data.to_excel('week-days.xlsx')"
   ]
  },
  {
   "cell_type": "markdown",
   "metadata": {},
   "source": [
    "# Trending topics on given days."
   ]
  },
  {
   "cell_type": "markdown",
   "metadata": {},
   "source": [
    "Answer to Question 1."
   ]
  },
  {
   "cell_type": "code",
   "execution_count": 237,
   "metadata": {},
   "outputs": [
    {
     "data": {
      "text/html": [
       "<div>\n",
       "<style scoped>\n",
       "    .dataframe tbody tr th:only-of-type {\n",
       "        vertical-align: middle;\n",
       "    }\n",
       "\n",
       "    .dataframe tbody tr th {\n",
       "        vertical-align: top;\n",
       "    }\n",
       "\n",
       "    .dataframe thead th {\n",
       "        text-align: right;\n",
       "    }\n",
       "</style>\n",
       "<table border=\"1\" class=\"dataframe\">\n",
       "  <thead>\n",
       "    <tr style=\"text-align: right;\">\n",
       "      <th></th>\n",
       "      <th>date</th>\n",
       "      <th>page</th>\n",
       "      <th>visits</th>\n",
       "      <th>date1</th>\n",
       "      <th>time</th>\n",
       "    </tr>\n",
       "  </thead>\n",
       "  <tbody>\n",
       "    <tr>\n",
       "      <th>0</th>\n",
       "      <td>2016-01-01</td>\n",
       "      <td>.xxx_en.wikipedia.org_all-access_all-agents</td>\n",
       "      <td>7089.0</td>\n",
       "      <td>2016-01-01</td>\n",
       "      <td>00:00:00</td>\n",
       "    </tr>\n",
       "    <tr>\n",
       "      <th>1</th>\n",
       "      <td>2016-01-01</td>\n",
       "      <td>.xxx_en.wikipedia.org_mobile-web_all-agents</td>\n",
       "      <td>6182.0</td>\n",
       "      <td>2016-01-01</td>\n",
       "      <td>00:00:00</td>\n",
       "    </tr>\n",
       "  </tbody>\n",
       "</table>\n",
       "</div>"
      ],
      "text/plain": [
       "        date                                         page  visits       date1  \\\n",
       "0 2016-01-01  .xxx_en.wikipedia.org_all-access_all-agents  7089.0  2016-01-01   \n",
       "1 2016-01-01  .xxx_en.wikipedia.org_mobile-web_all-agents  6182.0  2016-01-01   \n",
       "\n",
       "       time  \n",
       "0  00:00:00  \n",
       "1  00:00:00  "
      ]
     },
     "execution_count": 237,
     "metadata": {},
     "output_type": "execute_result"
    }
   ],
   "source": [
    "mydata.head(2)"
   ]
  },
  {
   "cell_type": "code",
   "execution_count": 238,
   "metadata": {},
   "outputs": [],
   "source": [
    "mydate=mydata.set_index('date')"
   ]
  },
  {
   "cell_type": "markdown",
   "metadata": {},
   "source": [
    "New years most trending topics."
   ]
  },
  {
   "cell_type": "code",
   "execution_count": 239,
   "metadata": {},
   "outputs": [],
   "source": [
    "#Filtering by the date.\n",
    "newyears=mydate[(mydate.index.get_level_values('date')=='2016-01-01 00:00:00')]"
   ]
  },
  {
   "cell_type": "code",
   "execution_count": 240,
   "metadata": {},
   "outputs": [
    {
     "name": "stderr",
     "output_type": "stream",
     "text": [
      "I:\\python_p\\lib\\site-packages\\pandas\\util\\_decorators.py:311: SettingWithCopyWarning: \n",
      "A value is trying to be set on a copy of a slice from a DataFrame\n",
      "\n",
      "See the caveats in the documentation: https://pandas.pydata.org/pandas-docs/stable/user_guide/indexing.html#returning-a-view-versus-a-copy\n",
      "  return func(*args, **kwargs)\n"
     ]
    },
    {
     "data": {
      "text/html": [
       "<div>\n",
       "<style scoped>\n",
       "    .dataframe tbody tr th:only-of-type {\n",
       "        vertical-align: middle;\n",
       "    }\n",
       "\n",
       "    .dataframe tbody tr th {\n",
       "        vertical-align: top;\n",
       "    }\n",
       "\n",
       "    .dataframe thead th {\n",
       "        text-align: right;\n",
       "    }\n",
       "</style>\n",
       "<table border=\"1\" class=\"dataframe\">\n",
       "  <thead>\n",
       "    <tr style=\"text-align: right;\">\n",
       "      <th></th>\n",
       "      <th>page</th>\n",
       "      <th>visits</th>\n",
       "      <th>date1</th>\n",
       "      <th>time</th>\n",
       "    </tr>\n",
       "    <tr>\n",
       "      <th>date</th>\n",
       "      <th></th>\n",
       "      <th></th>\n",
       "      <th></th>\n",
       "      <th></th>\n",
       "    </tr>\n",
       "  </thead>\n",
       "  <tbody>\n",
       "    <tr>\n",
       "      <th>2016-01-01</th>\n",
       "      <td>Main_Page_en.wikipedia.org_all-access_all-agents</td>\n",
       "      <td>16357307.0</td>\n",
       "      <td>2016-01-01</td>\n",
       "      <td>00:00:00</td>\n",
       "    </tr>\n",
       "    <tr>\n",
       "      <th>2016-01-01</th>\n",
       "      <td>Main_Page_en.wikipedia.org_desktop_all-agents</td>\n",
       "      <td>9170612.0</td>\n",
       "      <td>2016-01-01</td>\n",
       "      <td>00:00:00</td>\n",
       "    </tr>\n",
       "    <tr>\n",
       "      <th>2016-01-01</th>\n",
       "      <td>Main_Page_en.wikipedia.org_mobile-web_all-agents</td>\n",
       "      <td>6920930.0</td>\n",
       "      <td>2016-01-01</td>\n",
       "      <td>00:00:00</td>\n",
       "    </tr>\n",
       "    <tr>\n",
       "      <th>2016-01-01</th>\n",
       "      <td>Wikipedia:Hauptseite_de.wikipedia.org_all-acce...</td>\n",
       "      <td>3062989.0</td>\n",
       "      <td>2016-01-01</td>\n",
       "      <td>00:00:00</td>\n",
       "    </tr>\n",
       "    <tr>\n",
       "      <th>2016-01-01</th>\n",
       "      <td>Wikipedia:Hauptseite_de.wikipedia.org_mobile-w...</td>\n",
       "      <td>2306896.0</td>\n",
       "      <td>2016-01-01</td>\n",
       "      <td>00:00:00</td>\n",
       "    </tr>\n",
       "  </tbody>\n",
       "</table>\n",
       "</div>"
      ],
      "text/plain": [
       "                                                         page      visits  \\\n",
       "date                                                                        \n",
       "2016-01-01   Main_Page_en.wikipedia.org_all-access_all-agents  16357307.0   \n",
       "2016-01-01      Main_Page_en.wikipedia.org_desktop_all-agents   9170612.0   \n",
       "2016-01-01   Main_Page_en.wikipedia.org_mobile-web_all-agents   6920930.0   \n",
       "2016-01-01  Wikipedia:Hauptseite_de.wikipedia.org_all-acce...   3062989.0   \n",
       "2016-01-01  Wikipedia:Hauptseite_de.wikipedia.org_mobile-w...   2306896.0   \n",
       "\n",
       "                 date1      time  \n",
       "date                              \n",
       "2016-01-01  2016-01-01  00:00:00  \n",
       "2016-01-01  2016-01-01  00:00:00  \n",
       "2016-01-01  2016-01-01  00:00:00  \n",
       "2016-01-01  2016-01-01  00:00:00  \n",
       "2016-01-01  2016-01-01  00:00:00  "
      ]
     },
     "execution_count": 240,
     "metadata": {},
     "output_type": "execute_result"
    }
   ],
   "source": [
    "#Sorting to get the most visited pages.\n",
    "newyears.sort_values(by='visits',inplace=True,ascending=False)\n",
    "newyears.head(5)"
   ]
  },
  {
   "cell_type": "code",
   "execution_count": 241,
   "metadata": {},
   "outputs": [],
   "source": [
    "newyears.to_excel('new_years_val.xlsx')"
   ]
  },
  {
   "cell_type": "markdown",
   "metadata": {},
   "source": [
    "November 8th 2016 trending topics."
   ]
  },
  {
   "cell_type": "code",
   "execution_count": 242,
   "metadata": {},
   "outputs": [],
   "source": [
    "#Filtering by the date.\n",
    "nov8th=mydate[(mydate.index.get_level_values('date')=='2016-12-08 00:00:00')]"
   ]
  },
  {
   "cell_type": "code",
   "execution_count": 243,
   "metadata": {},
   "outputs": [
    {
     "name": "stderr",
     "output_type": "stream",
     "text": [
      "I:\\python_p\\lib\\site-packages\\pandas\\util\\_decorators.py:311: SettingWithCopyWarning: \n",
      "A value is trying to be set on a copy of a slice from a DataFrame\n",
      "\n",
      "See the caveats in the documentation: https://pandas.pydata.org/pandas-docs/stable/user_guide/indexing.html#returning-a-view-versus-a-copy\n",
      "  return func(*args, **kwargs)\n"
     ]
    },
    {
     "data": {
      "text/html": [
       "<div>\n",
       "<style scoped>\n",
       "    .dataframe tbody tr th:only-of-type {\n",
       "        vertical-align: middle;\n",
       "    }\n",
       "\n",
       "    .dataframe tbody tr th {\n",
       "        vertical-align: top;\n",
       "    }\n",
       "\n",
       "    .dataframe thead th {\n",
       "        text-align: right;\n",
       "    }\n",
       "</style>\n",
       "<table border=\"1\" class=\"dataframe\">\n",
       "  <thead>\n",
       "    <tr style=\"text-align: right;\">\n",
       "      <th></th>\n",
       "      <th>page</th>\n",
       "      <th>visits</th>\n",
       "      <th>date1</th>\n",
       "      <th>time</th>\n",
       "    </tr>\n",
       "    <tr>\n",
       "      <th>date</th>\n",
       "      <th></th>\n",
       "      <th></th>\n",
       "      <th></th>\n",
       "      <th></th>\n",
       "    </tr>\n",
       "  </thead>\n",
       "  <tbody>\n",
       "    <tr>\n",
       "      <th>2016-12-08</th>\n",
       "      <td>Main_Page_en.wikipedia.org_all-access_all-agents</td>\n",
       "      <td>21902049.0</td>\n",
       "      <td>2016-12-08</td>\n",
       "      <td>00:00:00</td>\n",
       "    </tr>\n",
       "    <tr>\n",
       "      <th>2016-12-08</th>\n",
       "      <td>Main_Page_en.wikipedia.org_desktop_all-agents</td>\n",
       "      <td>17971691.0</td>\n",
       "      <td>2016-12-08</td>\n",
       "      <td>00:00:00</td>\n",
       "    </tr>\n",
       "    <tr>\n",
       "      <th>2016-12-08</th>\n",
       "      <td>Main_Page_en.wikipedia.org_mobile-web_all-agents</td>\n",
       "      <td>3853501.0</td>\n",
       "      <td>2016-12-08</td>\n",
       "      <td>00:00:00</td>\n",
       "    </tr>\n",
       "    <tr>\n",
       "      <th>2016-12-08</th>\n",
       "      <td>Wikipedia:Hauptseite_de.wikipedia.org_all-acce...</td>\n",
       "      <td>2734399.0</td>\n",
       "      <td>2016-12-08</td>\n",
       "      <td>00:00:00</td>\n",
       "    </tr>\n",
       "    <tr>\n",
       "      <th>2016-12-08</th>\n",
       "      <td>Special:Search_en.wikipedia.org_all-access_all...</td>\n",
       "      <td>2070104.0</td>\n",
       "      <td>2016-12-08</td>\n",
       "      <td>00:00:00</td>\n",
       "    </tr>\n",
       "  </tbody>\n",
       "</table>\n",
       "</div>"
      ],
      "text/plain": [
       "                                                         page      visits  \\\n",
       "date                                                                        \n",
       "2016-12-08   Main_Page_en.wikipedia.org_all-access_all-agents  21902049.0   \n",
       "2016-12-08      Main_Page_en.wikipedia.org_desktop_all-agents  17971691.0   \n",
       "2016-12-08   Main_Page_en.wikipedia.org_mobile-web_all-agents   3853501.0   \n",
       "2016-12-08  Wikipedia:Hauptseite_de.wikipedia.org_all-acce...   2734399.0   \n",
       "2016-12-08  Special:Search_en.wikipedia.org_all-access_all...   2070104.0   \n",
       "\n",
       "                 date1      time  \n",
       "date                              \n",
       "2016-12-08  2016-12-08  00:00:00  \n",
       "2016-12-08  2016-12-08  00:00:00  \n",
       "2016-12-08  2016-12-08  00:00:00  \n",
       "2016-12-08  2016-12-08  00:00:00  \n",
       "2016-12-08  2016-12-08  00:00:00  "
      ]
     },
     "execution_count": 243,
     "metadata": {},
     "output_type": "execute_result"
    }
   ],
   "source": [
    "#Sorting to get the most visited pages.\n",
    "nov8th.sort_values(by='visits',inplace=True,ascending=False)\n",
    "nov8th.head(5)"
   ]
  },
  {
   "cell_type": "code",
   "execution_count": 244,
   "metadata": {},
   "outputs": [],
   "source": [
    "nov8th.to_excel('nov_8th_val.xlsx')"
   ]
  }
 ],
 "metadata": {
  "interpreter": {
   "hash": "60200725e54a51652f29132cba9e35188d9b634beca857e5e4847b3fb4f8f026"
  },
  "kernelspec": {
   "display_name": "Python 3.7.2 64-bit",
   "language": "python",
   "name": "python3"
  },
  "language_info": {
   "codemirror_mode": {
    "name": "ipython",
    "version": 3
   },
   "file_extension": ".py",
   "mimetype": "text/x-python",
   "name": "python",
   "nbconvert_exporter": "python",
   "pygments_lexer": "ipython3",
   "version": "3.7.2"
  },
  "orig_nbformat": 4
 },
 "nbformat": 4,
 "nbformat_minor": 2
}
